{
 "cells": [
  {
   "cell_type": "markdown",
   "metadata": {
    "id": "2D7jExyvQ_nO"
   },
   "source": [
    "# **Prediction of Product upgrade of freemium/trial users**\n",
    "\n",
    "---\n",
    "\n",
    "\n"
   ]
  },
  {
   "cell_type": "markdown",
   "metadata": {
    "id": "dTXJJJw2Qrj5"
   },
   "source": [
    "#### **Introduction**\n",
    ">  Every SaaS product companies have freemium/trial-based product offerings to let the user evaluate their product's worthiness provided with limited features. Every company's motive\n",
    "is to upgrade the trial user to a premium user, however, in reality, a considerable percentage of\n",
    "product evaluators use the product with limited features till the trial period or forever. Also, users\n",
    "who leverage the portal effectively during the trial tenure are considered to be the potential\n",
    "candidates for premium subscribers. So reaching out to the pertinent consumer is a key growth\n",
    "pillar for the product's revenue which will also help to focus adverts towards certain customer\n",
    "groups of an audience instead of reaching to all the consumers who use freemium/trial features. Hence the goal is to predict the user is a potential candidate for the Premium upgrade of not based on certain features"
   ]
  },
  {
   "cell_type": "markdown",
   "metadata": {
    "id": "etRq1uKxP2o1"
   },
   "source": [
    "#### **Step 1. Hypothesis Testing**\n",
    "  Below are the understanding of the dataset and the business problem\n",
    "\n",
    "1. **Last login** - User who logged recently(within 30 days) indicates that the product is still being evaluated using Freemium feature and indicates the user still in the way to explore the features and likely for product upgradation.\n",
    "2. **No of logins in last 30 days**  - More no of recent logins(within 30 days) of a user indicates that the freemium feature is being explored heavily have potential possibility for Product upgrade\n",
    "3. **No of apps** - User who leverages the features such as the component apps are the potential candidate for the Product upgrade\n",
    "4. **Invited projects** -  User can be invited by other existing product user's projects exemplifies the need of Project collaboration which paves an  opportunity for  Product upgrade    \n",
    "5. **Is free project created?** - Some users may enrol/Signup but would have not utilized any of freemium related benefits, users who utilized the free project creation features have possibility to opt for the Product upgrade\n",
    "6. **Storage used** - Users who use product will generate more models and files to explore the features which increase the storage size(limited size for the user), which means the users who use the utilized limited storage efficiently will likely proceed for the Product upgrade\n",
    "7. **No of users invited** - Users who invites more no other users(other existing customer within their organization or other users) will be treated as Project management peoples or Architects or Team leads who are the high candidate for Product upgrade but at the same time, at the same time is no need that all the invited users for the project will accept the invitation to the projects. \n",
    "8. **Users count** - Once the user accepts the project invitation they will be added as a member of the project, the more the users in the projects directly propotional to the active peoples who explores/utilize the features which obviously explains the necessity of the product upgrade.\n",
    "9. **User's activities count** - Every user activities are counted in project-wise, the more no of activites means the more no of project features are being utilized, which means there is a high probability for the product upgrade.\n"
   ]
  },
  {
   "cell_type": "markdown",
   "metadata": {
    "id": "h3L8sRSTP2o5"
   },
   "source": [
    "#### **Step2. Data Exploration**\n",
    "\n",
    "\n",
    "1. **User Id**- Unique Id of each User\n",
    "2. **Last login** - Track of the user's last successful login timestamp.  \n",
    "3. **No of logins** in last 30 days  - No of times a User logged in last 30 days.\n",
    "4. **Invited projects** - No of projects that a user got invited to join.\n",
    "5. **Is free project created?** - Boolean flag to track whether the user has started the freemium features or not.\n",
    "6. **Storage used** - User's utilized storage size.    \n",
    "7. **No of users invited** - Count of User's project invitation requests to other existing product users.\n",
    "8. **Users count** - No of users of the project.\n",
    "9. **User's activities count** - Count of user's activities in the project.\n",
    "10. **Result** - Boolean target variable specifies whether user will opt for Premium feature or not.       \n",
    "\n",
    "\n"
   ]
  },
  {
   "cell_type": "markdown",
   "metadata": {
    "id": "61ZnLo-AP2o6"
   },
   "source": [
    "### **Step3. Exploratory Data Analysis (EDA)**"
   ]
  },
  {
   "cell_type": "markdown",
   "metadata": {},
   "source": [
    "##### **Loading core libraries**"
   ]
  },
  {
   "cell_type": "code",
   "execution_count": 1,
   "metadata": {
    "id": "AHALXH_qP2o6"
   },
   "outputs": [
    {
     "name": "stdout",
     "output_type": "stream",
     "text": [
      "Requirement already satisfied: sagemaker in /home/ec2-user/anaconda3/envs/python3/lib/python3.6/site-packages (2.77.1)\n",
      "Collecting sagemaker\n",
      "  Downloading sagemaker-2.80.0.tar.gz (517 kB)\n",
      "     |████████████████████████████████| 517 kB 25.1 MB/s            \n",
      "\u001b[?25h  Preparing metadata (setup.py) ... \u001b[?25ldone\n",
      "\u001b[?25hRequirement already satisfied: pandas in /home/ec2-user/anaconda3/envs/python3/lib/python3.6/site-packages (1.1.5)\n",
      "Requirement already satisfied: numpy in /home/ec2-user/anaconda3/envs/python3/lib/python3.6/site-packages (1.19.5)\n",
      "Requirement already satisfied: attrs==20.3.0 in /home/ec2-user/anaconda3/envs/python3/lib/python3.6/site-packages (from sagemaker) (20.3.0)\n",
      "Requirement already satisfied: boto3>=1.20.21 in /home/ec2-user/anaconda3/envs/python3/lib/python3.6/site-packages (from sagemaker) (1.21.12)\n",
      "Requirement already satisfied: google-pasta in /home/ec2-user/anaconda3/envs/python3/lib/python3.6/site-packages (from sagemaker) (0.2.0)\n",
      "Requirement already satisfied: protobuf>=3.1 in /home/ec2-user/anaconda3/envs/python3/lib/python3.6/site-packages (from sagemaker) (3.15.2)\n",
      "Requirement already satisfied: protobuf3-to-dict>=0.1.5 in /home/ec2-user/anaconda3/envs/python3/lib/python3.6/site-packages (from sagemaker) (0.1.5)\n",
      "Requirement already satisfied: smdebug_rulesconfig==1.0.1 in /home/ec2-user/anaconda3/envs/python3/lib/python3.6/site-packages (from sagemaker) (1.0.1)\n",
      "Requirement already satisfied: importlib-metadata>=1.4.0 in /home/ec2-user/anaconda3/envs/python3/lib/python3.6/site-packages (from sagemaker) (3.7.0)\n",
      "Requirement already satisfied: packaging>=20.0 in /home/ec2-user/anaconda3/envs/python3/lib/python3.6/site-packages (from sagemaker) (21.3)\n",
      "Requirement already satisfied: pathos in /home/ec2-user/anaconda3/envs/python3/lib/python3.6/site-packages (from sagemaker) (0.2.8)\n",
      "Requirement already satisfied: python-dateutil>=2.7.3 in /home/ec2-user/anaconda3/envs/python3/lib/python3.6/site-packages (from pandas) (2.8.1)\n",
      "Requirement already satisfied: pytz>=2017.2 in /home/ec2-user/anaconda3/envs/python3/lib/python3.6/site-packages (from pandas) (2021.1)\n",
      "Requirement already satisfied: s3transfer<0.6.0,>=0.5.0 in /home/ec2-user/anaconda3/envs/python3/lib/python3.6/site-packages (from boto3>=1.20.21->sagemaker) (0.5.0)\n",
      "Requirement already satisfied: botocore<1.25.0,>=1.24.12 in /home/ec2-user/anaconda3/envs/python3/lib/python3.6/site-packages (from boto3>=1.20.21->sagemaker) (1.24.12)\n",
      "Requirement already satisfied: jmespath<1.0.0,>=0.7.1 in /home/ec2-user/anaconda3/envs/python3/lib/python3.6/site-packages (from boto3>=1.20.21->sagemaker) (0.10.0)\n",
      "Requirement already satisfied: typing-extensions>=3.6.4 in /home/ec2-user/anaconda3/envs/python3/lib/python3.6/site-packages (from importlib-metadata>=1.4.0->sagemaker) (4.0.1)\n",
      "Requirement already satisfied: zipp>=0.5 in /home/ec2-user/anaconda3/envs/python3/lib/python3.6/site-packages (from importlib-metadata>=1.4.0->sagemaker) (3.4.0)\n",
      "Requirement already satisfied: pyparsing!=3.0.5,>=2.0.2 in /home/ec2-user/anaconda3/envs/python3/lib/python3.6/site-packages (from packaging>=20.0->sagemaker) (2.4.7)\n",
      "Requirement already satisfied: six>=1.9 in /home/ec2-user/anaconda3/envs/python3/lib/python3.6/site-packages (from protobuf>=3.1->sagemaker) (1.15.0)\n",
      "Requirement already satisfied: multiprocess>=0.70.12 in /home/ec2-user/anaconda3/envs/python3/lib/python3.6/site-packages (from pathos->sagemaker) (0.70.12.2)\n",
      "Requirement already satisfied: ppft>=1.6.6.4 in /home/ec2-user/anaconda3/envs/python3/lib/python3.6/site-packages (from pathos->sagemaker) (1.6.6.4)\n",
      "Requirement already satisfied: pox>=0.3.0 in /home/ec2-user/anaconda3/envs/python3/lib/python3.6/site-packages (from pathos->sagemaker) (0.3.0)\n",
      "Requirement already satisfied: dill>=0.3.4 in /home/ec2-user/anaconda3/envs/python3/lib/python3.6/site-packages (from pathos->sagemaker) (0.3.4)\n",
      "Requirement already satisfied: urllib3<1.27,>=1.25.4 in /home/ec2-user/anaconda3/envs/python3/lib/python3.6/site-packages (from botocore<1.25.0,>=1.24.12->boto3>=1.20.21->sagemaker) (1.26.8)\n",
      "Building wheels for collected packages: sagemaker\n",
      "  Building wheel for sagemaker (setup.py) ... \u001b[?25ldone\n",
      "\u001b[?25h  Created wheel for sagemaker: filename=sagemaker-2.80.0-py2.py3-none-any.whl size=716377 sha256=f2e116c579ac4e317282022f0f70d1abee6dd3828de8ba3a8b7085e2e1e66296\n",
      "  Stored in directory: /home/ec2-user/.cache/pip/wheels/2b/f4/9b/7cb263b4827b149327caa68278e91de6243431d7b1e64e225b\n",
      "Successfully built sagemaker\n",
      "Installing collected packages: sagemaker\n",
      "  Attempting uninstall: sagemaker\n",
      "    Found existing installation: sagemaker 2.77.1\n",
      "    Uninstalling sagemaker-2.77.1:\n",
      "      Successfully uninstalled sagemaker-2.77.1\n",
      "Successfully installed sagemaker-2.80.0\n"
     ]
    }
   ],
   "source": [
    "import sys\n",
    "!{sys.executable} -m pip install sagemaker pandas numpy --upgrade\n",
    "import warnings\n",
    "warnings.filterwarnings('ignore')\n",
    "import sagemaker\n",
    "from sagemaker.amazon.amazon_estimator import get_image_uri\n",
    "from sagemaker.predictor import csv_serializer\n",
    "\n",
    "session = sagemaker.Session()\n",
    "prefix = \"predictionofpremiumtofreemium\"\n",
    "\n",
    "# Define IAM role\n",
    "import boto3\n",
    "import botocore\n",
    "import re\n",
    "from sagemaker import get_execution_role\n",
    "\n",
    "role = get_execution_role()\n",
    "\n",
    "import pandas as pd\n",
    "import numpy as np\n",
    "import matplotlib.pyplot as plt\n",
    "import io\n",
    "import os\n",
    "import sys\n",
    "import time\n",
    "import json\n",
    "from IPython.display import display\n",
    "from time import strftime, gmtime\n",
    "from sagemaker.inputs import TrainingInput\n",
    "from sagemaker.serializers import CSVSerializer\n",
    "\n",
    "import seaborn as sns\n",
    "\n"
   ]
  },
  {
   "cell_type": "markdown",
   "metadata": {},
   "source": [
    "##### **Loading the dataset from S3**"
   ]
  },
  {
   "cell_type": "code",
   "execution_count": 2,
   "metadata": {},
   "outputs": [],
   "source": [
    "%matplotlib inline\n",
    "bucket_name = 'predictionofpremiumtofreemium'\n",
    "\n",
    "s3 = boto3.resource('s3')\n",
    "# Download the test and train files from S3\n",
    "data_dir = './data'\n",
    "output_dir = './output'\n",
    "\n",
    "if not os.path.exists(data_dir):\n",
    "    os.makedirs(data_dir)\n",
    "if not os.path.exists(output_dir):\n",
    "    os.makedirs(output_dir)\n",
    "    \n",
    "try:\n",
    "    s3.Bucket(bucket_name).download_file('data/raw/test_dataset.csv','./data/test_raw_dataset.csv')\n",
    "    s3.Bucket(bucket_name).download_file('data/raw/training_dataset.csv','./data/training_raw_dataset.csv')\n",
    "except botocore.exceptions.ClientError as e:\n",
    "    if e.response['Error']['Code'] == \"404\":\n",
    "        print(\"The object does not exist.\")\n",
    "    else:\n",
    "        raise\n",
    "        \n",
    "train_data=pd.read_csv('./data/training_raw_dataset.csv')\n",
    "test_data=pd.read_csv('./data/test_raw_dataset.csv')\n",
    "train=train_data.copy()\n",
    "test=test_data.copy()"
   ]
  },
  {
   "cell_type": "markdown",
   "metadata": {},
   "source": [
    "##### **Data Shape**"
   ]
  },
  {
   "cell_type": "code",
   "execution_count": 3,
   "metadata": {
    "colab": {
     "base_uri": "https://localhost:8080/"
    },
    "id": "qaOy-9yEP2o7",
    "outputId": "b13ef660-71b3-4175-fab5-6ecddf43b0e3"
   },
   "outputs": [
    {
     "name": "stdout",
     "output_type": "stream",
     "text": [
      "Train data Shape (109227, 11)\n",
      "Test data Shape (9999, 10)\n"
     ]
    }
   ],
   "source": [
    "print('Train data Shape', train_data.shape)\n",
    "print('Test data Shape', test_data.shape)"
   ]
  },
  {
   "cell_type": "markdown",
   "metadata": {
    "id": "9z8wOM1TP2o8"
   },
   "source": [
    "The training data set has 11 variables (see above) and Test has 10 (excluding dependent feature)."
   ]
  },
  {
   "cell_type": "markdown",
   "metadata": {
    "id": "fNbTllgvrd6U"
   },
   "source": [
    "combine both train and test data sets into one, perform Feature Engineering and then divide them later again. This saves the trouble of performing the same steps twice on test and train"
   ]
  },
  {
   "cell_type": "markdown",
   "metadata": {},
   "source": [
    "##### **Glimpse of dataset**"
   ]
  },
  {
   "cell_type": "code",
   "execution_count": 4,
   "metadata": {
    "colab": {
     "base_uri": "https://localhost:8080/"
    },
    "id": "tv5wBYqeP2o8",
    "outputId": "8b77638f-ccb9-4ba6-f894-028172d77dfb"
   },
   "outputs": [
    {
     "name": "stdout",
     "output_type": "stream",
     "text": [
      "<class 'pandas.core.frame.DataFrame'>\n",
      "RangeIndex: 119226 entries, 0 to 119225\n",
      "Data columns (total 12 columns):\n",
      " #   Column                        Non-Null Count   Dtype \n",
      "---  ------                        --------------   ----- \n",
      " 0   User Id                       119226 non-null  object\n",
      " 1   Last login                    119226 non-null  object\n",
      " 2   No of logins in last 30 days  119226 non-null  int64 \n",
      " 3   No of apps                    119226 non-null  int64 \n",
      " 4   Invited projects              119226 non-null  int64 \n",
      " 5   Is free project created?      119226 non-null  object\n",
      " 6   Storage used                  119226 non-null  int64 \n",
      " 7   No of users invited           119226 non-null  int64 \n",
      " 8   Users count                   119226 non-null  int64 \n",
      " 9   User's activities count       119226 non-null  int64 \n",
      " 10  Result                        109227 non-null  object\n",
      " 11  source                        119226 non-null  object\n",
      "dtypes: int64(7), object(5)\n",
      "memory usage: 10.9+ MB\n"
     ]
    }
   ],
   "source": [
    "train['source']='train'\n",
    "test['source']='test'\n",
    "data=pd.concat([train,test],ignore_index=True)\n",
    "data.info()"
   ]
  },
  {
   "cell_type": "code",
   "execution_count": 5,
   "metadata": {
    "colab": {
     "base_uri": "https://localhost:8080/"
    },
    "id": "PbuZjwiWP2o9",
    "outputId": "b367c1c4-2360-405c-94dd-cab708ed6cae"
   },
   "outputs": [
    {
     "name": "stdout",
     "output_type": "stream",
     "text": [
      "<class 'pandas.core.frame.DataFrame'>\n",
      "Int64Index: 119226 entries, 0 to 119225\n",
      "Data columns (total 12 columns):\n",
      " #   Column                        Non-Null Count   Dtype \n",
      "---  ------                        --------------   ----- \n",
      " 0   User Id                       119226 non-null  object\n",
      " 1   Last login                    119226 non-null  object\n",
      " 2   No of logins in last 30 days  119226 non-null  int64 \n",
      " 3   No of apps                    119226 non-null  int64 \n",
      " 4   Invited projects              119226 non-null  int64 \n",
      " 5   Is free project created?      119226 non-null  object\n",
      " 6   Storage used                  119226 non-null  int64 \n",
      " 7   No of users invited           119226 non-null  int64 \n",
      " 8   Users count                   119226 non-null  int64 \n",
      " 9   User's activities count       119226 non-null  int64 \n",
      " 10  Result                        109227 non-null  object\n",
      " 11  source                        119226 non-null  object\n",
      "dtypes: int64(7), object(5)\n",
      "memory usage: 11.8+ MB\n"
     ]
    }
   ],
   "source": [
    "data = data.drop_duplicates()\n",
    "data.info()\n"
   ]
  },
  {
   "cell_type": "markdown",
   "metadata": {
    "id": "Fx_PlVH9Y2Qx"
   },
   "source": [
    "As per the above data, it is evident that the prepared dataset doesn't have any duplicate values"
   ]
  },
  {
   "cell_type": "code",
   "execution_count": 6,
   "metadata": {
    "colab": {
     "base_uri": "https://localhost:8080/",
     "height": 300
    },
    "id": "EJdKHvSCYlcB",
    "outputId": "fcd441a4-3ab2-440f-c160-3ff0da962a06"
   },
   "outputs": [
    {
     "data": {
      "text/html": [
       "<div>\n",
       "<style scoped>\n",
       "    .dataframe tbody tr th:only-of-type {\n",
       "        vertical-align: middle;\n",
       "    }\n",
       "\n",
       "    .dataframe tbody tr th {\n",
       "        vertical-align: top;\n",
       "    }\n",
       "\n",
       "    .dataframe thead th {\n",
       "        text-align: right;\n",
       "    }\n",
       "</style>\n",
       "<table border=\"1\" class=\"dataframe\">\n",
       "  <thead>\n",
       "    <tr style=\"text-align: right;\">\n",
       "      <th></th>\n",
       "      <th>No of logins in last 30 days</th>\n",
       "      <th>No of apps</th>\n",
       "      <th>Invited projects</th>\n",
       "      <th>Storage used</th>\n",
       "      <th>No of users invited</th>\n",
       "      <th>Users count</th>\n",
       "      <th>User's activities count</th>\n",
       "    </tr>\n",
       "  </thead>\n",
       "  <tbody>\n",
       "    <tr>\n",
       "      <th>count</th>\n",
       "      <td>119226.000000</td>\n",
       "      <td>119226.000000</td>\n",
       "      <td>119226.000000</td>\n",
       "      <td>119226.000000</td>\n",
       "      <td>119226.000000</td>\n",
       "      <td>119226.000000</td>\n",
       "      <td>119226.000000</td>\n",
       "    </tr>\n",
       "    <tr>\n",
       "      <th>mean</th>\n",
       "      <td>0.803013</td>\n",
       "      <td>4.985028</td>\n",
       "      <td>15.026051</td>\n",
       "      <td>1498.427080</td>\n",
       "      <td>1.501711</td>\n",
       "      <td>2.099047</td>\n",
       "      <td>299.552707</td>\n",
       "    </tr>\n",
       "    <tr>\n",
       "      <th>std</th>\n",
       "      <td>3.194564</td>\n",
       "      <td>3.163994</td>\n",
       "      <td>8.941732</td>\n",
       "      <td>1658.313691</td>\n",
       "      <td>1.806909</td>\n",
       "      <td>2.165955</td>\n",
       "      <td>331.897817</td>\n",
       "    </tr>\n",
       "    <tr>\n",
       "      <th>min</th>\n",
       "      <td>0.000000</td>\n",
       "      <td>0.000000</td>\n",
       "      <td>0.000000</td>\n",
       "      <td>0.000000</td>\n",
       "      <td>0.000000</td>\n",
       "      <td>0.000000</td>\n",
       "      <td>0.000000</td>\n",
       "    </tr>\n",
       "    <tr>\n",
       "      <th>25%</th>\n",
       "      <td>0.000000</td>\n",
       "      <td>2.000000</td>\n",
       "      <td>7.000000</td>\n",
       "      <td>0.000000</td>\n",
       "      <td>0.000000</td>\n",
       "      <td>0.000000</td>\n",
       "      <td>0.000000</td>\n",
       "    </tr>\n",
       "    <tr>\n",
       "      <th>50%</th>\n",
       "      <td>0.000000</td>\n",
       "      <td>5.000000</td>\n",
       "      <td>15.000000</td>\n",
       "      <td>827.500000</td>\n",
       "      <td>0.000000</td>\n",
       "      <td>1.000000</td>\n",
       "      <td>165.000000</td>\n",
       "    </tr>\n",
       "    <tr>\n",
       "      <th>75%</th>\n",
       "      <td>0.000000</td>\n",
       "      <td>8.000000</td>\n",
       "      <td>23.000000</td>\n",
       "      <td>2912.000000</td>\n",
       "      <td>3.000000</td>\n",
       "      <td>4.000000</td>\n",
       "      <td>582.000000</td>\n",
       "    </tr>\n",
       "    <tr>\n",
       "      <th>max</th>\n",
       "      <td>30.000000</td>\n",
       "      <td>10.000000</td>\n",
       "      <td>30.000000</td>\n",
       "      <td>5000.000000</td>\n",
       "      <td>5.000000</td>\n",
       "      <td>6.000000</td>\n",
       "      <td>1000.000000</td>\n",
       "    </tr>\n",
       "  </tbody>\n",
       "</table>\n",
       "</div>"
      ],
      "text/plain": [
       "       No of logins in last 30 days     No of apps  Invited projects  \\\n",
       "count                 119226.000000  119226.000000     119226.000000   \n",
       "mean                       0.803013       4.985028         15.026051   \n",
       "std                        3.194564       3.163994          8.941732   \n",
       "min                        0.000000       0.000000          0.000000   \n",
       "25%                        0.000000       2.000000          7.000000   \n",
       "50%                        0.000000       5.000000         15.000000   \n",
       "75%                        0.000000       8.000000         23.000000   \n",
       "max                       30.000000      10.000000         30.000000   \n",
       "\n",
       "        Storage used  No of users invited    Users count  \\\n",
       "count  119226.000000        119226.000000  119226.000000   \n",
       "mean     1498.427080             1.501711       2.099047   \n",
       "std      1658.313691             1.806909       2.165955   \n",
       "min         0.000000             0.000000       0.000000   \n",
       "25%         0.000000             0.000000       0.000000   \n",
       "50%       827.500000             0.000000       1.000000   \n",
       "75%      2912.000000             3.000000       4.000000   \n",
       "max      5000.000000             5.000000       6.000000   \n",
       "\n",
       "       User's activities count  \n",
       "count            119226.000000  \n",
       "mean                299.552707  \n",
       "std                 331.897817  \n",
       "min                   0.000000  \n",
       "25%                   0.000000  \n",
       "50%                 165.000000  \n",
       "75%                 582.000000  \n",
       "max                1000.000000  "
      ]
     },
     "execution_count": 6,
     "metadata": {},
     "output_type": "execute_result"
    }
   ],
   "source": [
    "data.describe()"
   ]
  },
  {
   "cell_type": "markdown",
   "metadata": {
    "id": "Sgp2MjBhsauk"
   },
   "source": [
    "##### **Missing Values**"
   ]
  },
  {
   "cell_type": "code",
   "execution_count": 7,
   "metadata": {
    "colab": {
     "base_uri": "https://localhost:8080/"
    },
    "id": "R3k7-L56P2o-",
    "outputId": "27859f9f-3343-4fdf-9319-62ddf0bd4e48"
   },
   "outputs": [
    {
     "data": {
      "text/plain": [
       "User Id                            0\n",
       "Last login                         0\n",
       "No of logins in last 30 days       0\n",
       "No of apps                         0\n",
       "Invited projects                   0\n",
       "Is free project created?           0\n",
       "Storage used                       0\n",
       "No of users invited                0\n",
       "Users count                        0\n",
       "User's activities count            0\n",
       "Result                          9999\n",
       "source                             0\n",
       "dtype: int64"
      ]
     },
     "execution_count": 7,
     "metadata": {},
     "output_type": "execute_result"
    }
   ],
   "source": [
    "data.isnull().sum()"
   ]
  },
  {
   "cell_type": "markdown",
   "metadata": {
    "id": "KZPIjI4wP2o_"
   },
   "source": [
    "We don't have any missing values in the dataset except for the Target variable (Response) that’s because we have combined our dataset and these missing values belong to the test dataset., hence the extra efforts related to filling up the missing values and droping the features based on missing values will not be there"
   ]
  },
  {
   "cell_type": "markdown",
   "metadata": {
    "id": "MZy_j1A4srU1"
   },
   "source": [
    "##### **Categorical Variables**"
   ]
  },
  {
   "cell_type": "code",
   "execution_count": 8,
   "metadata": {
    "colab": {
     "base_uri": "https://localhost:8080/"
    },
    "id": "kZhQS6quk5RU",
    "outputId": "3ee85e54-0237-4c3c-9b69-6a2319df4756"
   },
   "outputs": [
    {
     "name": "stdout",
     "output_type": "stream",
     "text": [
      "Categorical features ['Last login', 'Is free project created?', 'Result']\n"
     ]
    }
   ],
   "source": [
    "# for feature in categorical_features:\n",
    "categorical_features=[feature for feature in data.columns if data[feature].dtypes=='O' and not feature in ['source','User Id']]\n",
    "print('Categorical features',categorical_features)\n"
   ]
  },
  {
   "cell_type": "markdown",
   "metadata": {
    "id": "gttEFOFPlNCM"
   },
   "source": [
    "Creating new Categorical value based on last login data where the date difference between the last login and the current data will be taken into an account to check whether the user has logged into the system recently or not"
   ]
  },
  {
   "cell_type": "markdown",
   "metadata": {
    "id": "qCjptpsCvfa1"
   },
   "source": [
    "##### **Cardinality of Categorical Variables**"
   ]
  },
  {
   "cell_type": "code",
   "execution_count": 9,
   "metadata": {
    "colab": {
     "base_uri": "https://localhost:8080/"
    },
    "id": "qzcjLn6-s9UW",
    "outputId": "c7bda650-8a55-403d-9120-e198b0e002a6"
   },
   "outputs": [
    {
     "name": "stdout",
     "output_type": "stream",
     "text": [
      "feature: Last login, Unique values: 106600 \n",
      "feature: Is free project created?, Unique values: 2 \n",
      "feature: Result, Unique values: 3 \n",
      "feature: User Id, Unique values: 119226 \n"
     ]
    }
   ],
   "source": [
    "for feature in categorical_features:\n",
    "    print('feature: {}, Unique values: {} '.format(feature, len(data[feature].unique())))\n",
    "print('feature: {}, Unique values: {} '.format('User Id', len(data['User Id'].unique())))"
   ]
  },
  {
   "cell_type": "code",
   "execution_count": 10,
   "metadata": {
    "colab": {
     "base_uri": "https://localhost:8080/",
     "height": 302
    },
    "id": "ra1kKYgdx2oq",
    "outputId": "e8c173be-a698-4047-85c0-4c6c7c32ba91"
   },
   "outputs": [
    {
     "data": {
      "text/plain": [
       "(array([0, 1]), [Text(0, 0, 'No'), Text(1, 0, 'Yes')])"
      ]
     },
     "execution_count": 10,
     "metadata": {},
     "output_type": "execute_result"
    },
    {
     "data": {
      "image/png": "[encoded data removed]",
      "text/plain": [
       "<Figure size 432x288 with 1 Axes>"
      ]
     },
     "metadata": {
      "needs_background": "light"
     },
     "output_type": "display_data"
    }
   ],
   "source": [
    "sns.countplot(x='Is free project created?', data=data)\n",
    "plt.xticks(rotation=90)"
   ]
  },
  {
   "cell_type": "markdown",
   "metadata": {
    "id": "5Vd-PNuVyiSK"
   },
   "source": [
    "##### **Numerical features**"
   ]
  },
  {
   "cell_type": "code",
   "execution_count": 11,
   "metadata": {
    "colab": {
     "base_uri": "https://localhost:8080/",
     "height": 241
    },
    "id": "RGN5hHBYyn7V",
    "outputId": "d47fc04f-5907-4edf-988c-348023f947ee"
   },
   "outputs": [
    {
     "name": "stdout",
     "output_type": "stream",
     "text": [
      "Numerical Features: ['No of logins in last 30 days', 'No of apps', 'Invited projects', 'Storage used', 'No of users invited', 'Users count', \"User's activities count\"]\n",
      "Number of numerical variables:  7\n"
     ]
    },
    {
     "data": {
      "text/html": [
       "<div>\n",
       "<style scoped>\n",
       "    .dataframe tbody tr th:only-of-type {\n",
       "        vertical-align: middle;\n",
       "    }\n",
       "\n",
       "    .dataframe tbody tr th {\n",
       "        vertical-align: top;\n",
       "    }\n",
       "\n",
       "    .dataframe thead th {\n",
       "        text-align: right;\n",
       "    }\n",
       "</style>\n",
       "<table border=\"1\" class=\"dataframe\">\n",
       "  <thead>\n",
       "    <tr style=\"text-align: right;\">\n",
       "      <th></th>\n",
       "      <th>No of logins in last 30 days</th>\n",
       "      <th>No of apps</th>\n",
       "      <th>Invited projects</th>\n",
       "      <th>Storage used</th>\n",
       "      <th>No of users invited</th>\n",
       "      <th>Users count</th>\n",
       "      <th>User's activities count</th>\n",
       "    </tr>\n",
       "  </thead>\n",
       "  <tbody>\n",
       "    <tr>\n",
       "      <th>0</th>\n",
       "      <td>0</td>\n",
       "      <td>2</td>\n",
       "      <td>7</td>\n",
       "      <td>0</td>\n",
       "      <td>0</td>\n",
       "      <td>0</td>\n",
       "      <td>0</td>\n",
       "    </tr>\n",
       "    <tr>\n",
       "      <th>1</th>\n",
       "      <td>0</td>\n",
       "      <td>2</td>\n",
       "      <td>17</td>\n",
       "      <td>0</td>\n",
       "      <td>0</td>\n",
       "      <td>0</td>\n",
       "      <td>0</td>\n",
       "    </tr>\n",
       "    <tr>\n",
       "      <th>2</th>\n",
       "      <td>1</td>\n",
       "      <td>2</td>\n",
       "      <td>7</td>\n",
       "      <td>0</td>\n",
       "      <td>0</td>\n",
       "      <td>0</td>\n",
       "      <td>0</td>\n",
       "    </tr>\n",
       "    <tr>\n",
       "      <th>3</th>\n",
       "      <td>0</td>\n",
       "      <td>8</td>\n",
       "      <td>16</td>\n",
       "      <td>2080</td>\n",
       "      <td>3</td>\n",
       "      <td>2</td>\n",
       "      <td>230</td>\n",
       "    </tr>\n",
       "    <tr>\n",
       "      <th>4</th>\n",
       "      <td>6</td>\n",
       "      <td>7</td>\n",
       "      <td>6</td>\n",
       "      <td>2062</td>\n",
       "      <td>4</td>\n",
       "      <td>3</td>\n",
       "      <td>506</td>\n",
       "    </tr>\n",
       "  </tbody>\n",
       "</table>\n",
       "</div>"
      ],
      "text/plain": [
       "   No of logins in last 30 days  No of apps  Invited projects  Storage used  \\\n",
       "0                             0           2                 7             0   \n",
       "1                             0           2                17             0   \n",
       "2                             1           2                 7             0   \n",
       "3                             0           8                16          2080   \n",
       "4                             6           7                 6          2062   \n",
       "\n",
       "   No of users invited  Users count  User's activities count  \n",
       "0                    0            0                        0  \n",
       "1                    0            0                        0  \n",
       "2                    0            0                        0  \n",
       "3                    3            2                      230  \n",
       "4                    4            3                      506  "
      ]
     },
     "execution_count": 11,
     "metadata": {},
     "output_type": "execute_result"
    }
   ],
   "source": [
    "numerical_features = [feature for feature in data.columns if data[feature].dtypes != 'O']\n",
    "\n",
    "print('Numerical Features:', numerical_features)\n",
    "print('Number of numerical variables: ', len(numerical_features))\n",
    "data[numerical_features].head()\n"
   ]
  },
  {
   "cell_type": "markdown",
   "metadata": {
    "id": "0H2yuhDmyyLU"
   },
   "source": [
    "##### **Numerical variable's distribution analysis using histogram**"
   ]
  },
  {
   "cell_type": "code",
   "execution_count": 12,
   "metadata": {
    "colab": {
     "base_uri": "https://localhost:8080/",
     "height": 744
    },
    "id": "bpX1zV-5y0aF",
    "outputId": "b7ce9cda-9029-428b-85f9-cb7010e25d72"
   },
   "outputs": [
    {
     "data": {
      "image/png": "[encoded data removed]",
      "text/plain": [
       "<Figure size 1440x1080 with 18 Axes>"
      ]
     },
     "metadata": {
      "needs_background": "light"
     },
     "output_type": "display_data"
    }
   ],
   "source": [
    "data.hist(figsize=(20,15),layout=(3,6))\n",
    "plt.tight_layout()\n",
    "plt.show()"
   ]
  },
  {
   "cell_type": "markdown",
   "metadata": {
    "id": "-rdhMT0p2uST"
   },
   "source": [
    "###### **Discrete Numerical Variables**"
   ]
  },
  {
   "cell_type": "code",
   "execution_count": 13,
   "metadata": {
    "colab": {
     "base_uri": "https://localhost:8080/",
     "height": 241
    },
    "id": "a6iRvKcdzIYX",
    "outputId": "55f9b574-2099-4ed7-9b00-b89a4ea7118d"
   },
   "outputs": [
    {
     "name": "stdout",
     "output_type": "stream",
     "text": [
      "Discrete Variables Count: 3\n",
      "Discrete Variables  ['No of apps', 'No of users invited', 'Users count']\n"
     ]
    },
    {
     "data": {
      "text/html": [
       "<div>\n",
       "<style scoped>\n",
       "    .dataframe tbody tr th:only-of-type {\n",
       "        vertical-align: middle;\n",
       "    }\n",
       "\n",
       "    .dataframe tbody tr th {\n",
       "        vertical-align: top;\n",
       "    }\n",
       "\n",
       "    .dataframe thead th {\n",
       "        text-align: right;\n",
       "    }\n",
       "</style>\n",
       "<table border=\"1\" class=\"dataframe\">\n",
       "  <thead>\n",
       "    <tr style=\"text-align: right;\">\n",
       "      <th></th>\n",
       "      <th>No of apps</th>\n",
       "      <th>No of users invited</th>\n",
       "      <th>Users count</th>\n",
       "    </tr>\n",
       "  </thead>\n",
       "  <tbody>\n",
       "    <tr>\n",
       "      <th>0</th>\n",
       "      <td>2</td>\n",
       "      <td>0</td>\n",
       "      <td>0</td>\n",
       "    </tr>\n",
       "    <tr>\n",
       "      <th>1</th>\n",
       "      <td>2</td>\n",
       "      <td>0</td>\n",
       "      <td>0</td>\n",
       "    </tr>\n",
       "    <tr>\n",
       "      <th>2</th>\n",
       "      <td>2</td>\n",
       "      <td>0</td>\n",
       "      <td>0</td>\n",
       "    </tr>\n",
       "    <tr>\n",
       "      <th>3</th>\n",
       "      <td>8</td>\n",
       "      <td>3</td>\n",
       "      <td>2</td>\n",
       "    </tr>\n",
       "    <tr>\n",
       "      <th>4</th>\n",
       "      <td>7</td>\n",
       "      <td>4</td>\n",
       "      <td>3</td>\n",
       "    </tr>\n",
       "  </tbody>\n",
       "</table>\n",
       "</div>"
      ],
      "text/plain": [
       "   No of apps  No of users invited  Users count\n",
       "0           2                    0            0\n",
       "1           2                    0            0\n",
       "2           2                    0            0\n",
       "3           8                    3            2\n",
       "4           7                    4            3"
      ]
     },
     "execution_count": 13,
     "metadata": {},
     "output_type": "execute_result"
    }
   ],
   "source": [
    "discrete_feature=[feature for feature in numerical_features if len(data[feature].unique())<25]\n",
    "print(\"Discrete Variables Count: {}\".format(len(discrete_feature)))\n",
    "print(\"Discrete Variables \", discrete_feature)\n",
    "data[discrete_feature].head()"
   ]
  },
  {
   "cell_type": "markdown",
   "metadata": {
    "id": "0Nn9EKj523Og"
   },
   "source": [
    "###### **Continous Numerical variable**"
   ]
  },
  {
   "cell_type": "code",
   "execution_count": 14,
   "metadata": {
    "colab": {
     "base_uri": "https://localhost:8080/"
    },
    "id": "KsfwnORZ1acd",
    "outputId": "fa3e3f99-af8d-49a5-aeca-49d60a97447f"
   },
   "outputs": [
    {
     "name": "stdout",
     "output_type": "stream",
     "text": [
      "Continuous feature Count 4\n",
      "Continuous features ['No of logins in last 30 days', 'Invited projects', 'Storage used', \"User's activities count\"]\n"
     ]
    }
   ],
   "source": [
    "continuous_feature=[feature for feature in numerical_features if feature not in discrete_feature + ['User Id']]\n",
    "print(\"Continuous feature Count {}\".format(len(continuous_feature)))\n",
    "print(\"Continuous features {}\".format(continuous_feature))\n"
   ]
  },
  {
   "cell_type": "markdown",
   "metadata": {
    "id": "h54HQD9A8GKs"
   },
   "source": [
    "Numerical features holds zero values which is valid based on business requirement, hence applying the logarithmic transformation is not a pertinent approach"
   ]
  },
  {
   "cell_type": "markdown",
   "metadata": {
    "id": "3SZEQnO03HQg"
   },
   "source": [
    "##### **Numerical variable's Outliers analysis using boxplot**"
   ]
  },
  {
   "cell_type": "code",
   "execution_count": 15,
   "metadata": {
    "colab": {
     "base_uri": "https://localhost:8080/",
     "height": 1000
    },
    "id": "6mnx6PuB1yzX",
    "outputId": "b9df5141-ff0c-4d11-bd13-ec104bb31faf"
   },
   "outputs": [
    {
     "data": {
      "image/png": "[encoded data removed]",
      "text/plain": [
       "<Figure size 432x288 with 1 Axes>"
      ]
     },
     "metadata": {
      "needs_background": "light"
     },
     "output_type": "display_data"
    },
    {
     "data": {
      "image/png": "[encoded data removed]",
      "text/plain": [
       "<Figure size 432x288 with 1 Axes>"
      ]
     },
     "metadata": {
      "needs_background": "light"
     },
     "output_type": "display_data"
    },
    {
     "data": {
      "image/png": "[encoded data removed]",
      "text/plain": [
       "<Figure size 432x288 with 1 Axes>"
      ]
     },
     "metadata": {
      "needs_background": "light"
     },
     "output_type": "display_data"
    },
    {
     "data": {
      "image/png": "[encoded data removed]",
      "text/plain": [
       "<Figure size 432x288 with 1 Axes>"
      ]
     },
     "metadata": {
      "needs_background": "light"
     },
     "output_type": "display_data"
    },
    {
     "data": {
      "image/png": "[encoded data removed]",
      "text/plain": [
       "<Figure size 432x288 with 1 Axes>"
      ]
     },
     "metadata": {
      "needs_background": "light"
     },
     "output_type": "display_data"
    },
    {
     "data": {
      "image/png": "[encoded data removed]",
      "text/plain": [
       "<Figure size 432x288 with 1 Axes>"
      ]
     },
     "metadata": {
      "needs_background": "light"
     },
     "output_type": "display_data"
    },
    {
     "data": {
      "image/png": "[encoded data removed]",
      "text/plain": [
       "<Figure size 432x288 with 1 Axes>"
      ]
     },
     "metadata": {
      "needs_background": "light"
     },
     "output_type": "display_data"
    }
   ],
   "source": [
    "for feature in numerical_features:\n",
    "    data_clone=data.copy()\n",
    "    data_clone.boxplot(column=feature)\n",
    "    plt.ylabel(feature)\n",
    "    plt.title(feature)\n",
    "    plt.show()"
   ]
  },
  {
   "cell_type": "markdown",
   "metadata": {
    "id": "2lQEKvvH4KFr"
   },
   "source": [
    "##### **Transforming the Categorical features into numerical form**"
   ]
  },
  {
   "cell_type": "markdown",
   "metadata": {
    "id": "ViFXxwuC4ZcH"
   },
   "source": [
    "We have to create new feature from the **'last login'**, by applying date difference between 'last login' feature with present date, we have threshold of 30 days to consider whether the login is recent or not. If the date difference is less than 30 then that will be considered as recent login otherwise not"
   ]
  },
  {
   "cell_type": "code",
   "execution_count": 16,
   "metadata": {
    "colab": {
     "base_uri": "https://localhost:8080/",
     "height": 354
    },
    "id": "HADcIbEElMLk",
    "outputId": "3e989468-1029-4323-b041-0dd9cac13627"
   },
   "outputs": [
    {
     "data": {
      "text/html": [
       "<div>\n",
       "<style scoped>\n",
       "    .dataframe tbody tr th:only-of-type {\n",
       "        vertical-align: middle;\n",
       "    }\n",
       "\n",
       "    .dataframe tbody tr th {\n",
       "        vertical-align: top;\n",
       "    }\n",
       "\n",
       "    .dataframe thead th {\n",
       "        text-align: right;\n",
       "    }\n",
       "</style>\n",
       "<table border=\"1\" class=\"dataframe\">\n",
       "  <thead>\n",
       "    <tr style=\"text-align: right;\">\n",
       "      <th></th>\n",
       "      <th>User Id</th>\n",
       "      <th>Last login</th>\n",
       "      <th>No of logins in last 30 days</th>\n",
       "      <th>No of apps</th>\n",
       "      <th>Invited projects</th>\n",
       "      <th>Is free project created?</th>\n",
       "      <th>Storage used</th>\n",
       "      <th>No of users invited</th>\n",
       "      <th>Users count</th>\n",
       "      <th>User's activities count</th>\n",
       "      <th>Result</th>\n",
       "      <th>source</th>\n",
       "      <th>Recent login</th>\n",
       "    </tr>\n",
       "  </thead>\n",
       "  <tbody>\n",
       "    <tr>\n",
       "      <th>0</th>\n",
       "      <td>9c617e13-1e58-499a-bdba-caed007a4a4c</td>\n",
       "      <td>04/09/2021 1:53 AM</td>\n",
       "      <td>0</td>\n",
       "      <td>2</td>\n",
       "      <td>7</td>\n",
       "      <td>0</td>\n",
       "      <td>0</td>\n",
       "      <td>0</td>\n",
       "      <td>0</td>\n",
       "      <td>0</td>\n",
       "      <td>0.0</td>\n",
       "      <td>train</td>\n",
       "      <td>0</td>\n",
       "    </tr>\n",
       "    <tr>\n",
       "      <th>1</th>\n",
       "      <td>95ba3c4b-f049-4ce5-9e32-4a9a1513aa05</td>\n",
       "      <td>02/05/2021 2:25 AM</td>\n",
       "      <td>0</td>\n",
       "      <td>2</td>\n",
       "      <td>17</td>\n",
       "      <td>0</td>\n",
       "      <td>0</td>\n",
       "      <td>0</td>\n",
       "      <td>0</td>\n",
       "      <td>0</td>\n",
       "      <td>0.0</td>\n",
       "      <td>train</td>\n",
       "      <td>0</td>\n",
       "    </tr>\n",
       "    <tr>\n",
       "      <th>2</th>\n",
       "      <td>ea593eac-2092-4104-8aa3-d480c9a8d592</td>\n",
       "      <td>10/03/2021 9:15 AM</td>\n",
       "      <td>1</td>\n",
       "      <td>2</td>\n",
       "      <td>7</td>\n",
       "      <td>0</td>\n",
       "      <td>0</td>\n",
       "      <td>0</td>\n",
       "      <td>0</td>\n",
       "      <td>0</td>\n",
       "      <td>0.0</td>\n",
       "      <td>train</td>\n",
       "      <td>1</td>\n",
       "    </tr>\n",
       "    <tr>\n",
       "      <th>3</th>\n",
       "      <td>51dfc110-de98-4bc2-b5a1-4936cf00d0cb</td>\n",
       "      <td>01/04/2021 11:26 PM</td>\n",
       "      <td>0</td>\n",
       "      <td>8</td>\n",
       "      <td>16</td>\n",
       "      <td>1</td>\n",
       "      <td>2080</td>\n",
       "      <td>3</td>\n",
       "      <td>2</td>\n",
       "      <td>230</td>\n",
       "      <td>0.0</td>\n",
       "      <td>train</td>\n",
       "      <td>0</td>\n",
       "    </tr>\n",
       "    <tr>\n",
       "      <th>4</th>\n",
       "      <td>ce3a78a6-db1c-43a2-afe0-71d751cc25fd</td>\n",
       "      <td>10/26/2021 2:59 AM</td>\n",
       "      <td>6</td>\n",
       "      <td>7</td>\n",
       "      <td>6</td>\n",
       "      <td>1</td>\n",
       "      <td>2062</td>\n",
       "      <td>4</td>\n",
       "      <td>3</td>\n",
       "      <td>506</td>\n",
       "      <td>1.0</td>\n",
       "      <td>train</td>\n",
       "      <td>1</td>\n",
       "    </tr>\n",
       "  </tbody>\n",
       "</table>\n",
       "</div>"
      ],
      "text/plain": [
       "                                User Id           Last login  \\\n",
       "0  9c617e13-1e58-499a-bdba-caed007a4a4c   04/09/2021 1:53 AM   \n",
       "1  95ba3c4b-f049-4ce5-9e32-4a9a1513aa05   02/05/2021 2:25 AM   \n",
       "2  ea593eac-2092-4104-8aa3-d480c9a8d592   10/03/2021 9:15 AM   \n",
       "3  51dfc110-de98-4bc2-b5a1-4936cf00d0cb  01/04/2021 11:26 PM   \n",
       "4  ce3a78a6-db1c-43a2-afe0-71d751cc25fd   10/26/2021 2:59 AM   \n",
       "\n",
       "   No of logins in last 30 days  No of apps  Invited projects  \\\n",
       "0                             0           2                 7   \n",
       "1                             0           2                17   \n",
       "2                             1           2                 7   \n",
       "3                             0           8                16   \n",
       "4                             6           7                 6   \n",
       "\n",
       "   Is free project created?  Storage used  No of users invited  Users count  \\\n",
       "0                         0             0                    0            0   \n",
       "1                         0             0                    0            0   \n",
       "2                         0             0                    0            0   \n",
       "3                         1          2080                    3            2   \n",
       "4                         1          2062                    4            3   \n",
       "\n",
       "   User's activities count  Result source  Recent login  \n",
       "0                        0     0.0  train             0  \n",
       "1                        0     0.0  train             0  \n",
       "2                        0     0.0  train             1  \n",
       "3                      230     0.0  train             0  \n",
       "4                      506     1.0  train             1  "
      ]
     },
     "execution_count": 16,
     "metadata": {},
     "output_type": "execute_result"
    }
   ],
   "source": [
    "from datetime import datetime\n",
    "last_login = list(data['Last login'])\n",
    "for i in range(len(last_login)):\n",
    "    last_login_date = datetime.strptime(last_login[i], \"%m/%d/%Y %H:%M %p\")\n",
    "    end_date = datetime.now()\n",
    "    last_login_date_diff = abs((end_date-last_login_date).days)\n",
    "    if last_login_date_diff < 180:\n",
    "        last_login[i] = 'Yes'\n",
    "    else:\n",
    "        last_login[i] = 'No'\n",
    "data['Recent login'] = list(last_login)\n",
    "\n",
    "data['Result'].replace({'Yes': 1, 'No': 0}, inplace=True)\n",
    "data['Is free project created?'].replace({'Yes': 1, 'No': 0}, inplace=True)\n",
    "data['Recent login'].replace({'Yes': 1, 'No': 0}, inplace=True)\n",
    "data.head()\n",
    "\n"
   ]
  },
  {
   "cell_type": "markdown",
   "metadata": {
    "id": "nH2bXpALyOFj"
   },
   "source": [
    "### **Step5. Data Cleaning**"
   ]
  },
  {
   "cell_type": "markdown",
   "metadata": {
    "id": "gRTgnDbmn61s"
   },
   "source": [
    "*   Dropping the 'User Id' feature where each value is unique. \n",
    "*   Dropping the 'Last login' feature as the new feature 'Recent login' is created based on it which will be used going forward for the data analysis"
   ]
  },
  {
   "cell_type": "code",
   "execution_count": 17,
   "metadata": {
    "colab": {
     "base_uri": "https://localhost:8080/",
     "height": 206
    },
    "id": "mIckVMPGona7",
    "outputId": "27b3e3a6-a878-4ab0-aaa4-4cfaafcde4fb"
   },
   "outputs": [
    {
     "data": {
      "text/html": [
       "<div>\n",
       "<style scoped>\n",
       "    .dataframe tbody tr th:only-of-type {\n",
       "        vertical-align: middle;\n",
       "    }\n",
       "\n",
       "    .dataframe tbody tr th {\n",
       "        vertical-align: top;\n",
       "    }\n",
       "\n",
       "    .dataframe thead th {\n",
       "        text-align: right;\n",
       "    }\n",
       "</style>\n",
       "<table border=\"1\" class=\"dataframe\">\n",
       "  <thead>\n",
       "    <tr style=\"text-align: right;\">\n",
       "      <th></th>\n",
       "      <th>No of logins in last 30 days</th>\n",
       "      <th>No of apps</th>\n",
       "      <th>Invited projects</th>\n",
       "      <th>Is free project created?</th>\n",
       "      <th>Storage used</th>\n",
       "      <th>No of users invited</th>\n",
       "      <th>Users count</th>\n",
       "      <th>User's activities count</th>\n",
       "      <th>Result</th>\n",
       "      <th>source</th>\n",
       "      <th>Recent login</th>\n",
       "    </tr>\n",
       "  </thead>\n",
       "  <tbody>\n",
       "    <tr>\n",
       "      <th>0</th>\n",
       "      <td>0</td>\n",
       "      <td>2</td>\n",
       "      <td>7</td>\n",
       "      <td>0</td>\n",
       "      <td>0</td>\n",
       "      <td>0</td>\n",
       "      <td>0</td>\n",
       "      <td>0</td>\n",
       "      <td>0.0</td>\n",
       "      <td>train</td>\n",
       "      <td>0</td>\n",
       "    </tr>\n",
       "    <tr>\n",
       "      <th>1</th>\n",
       "      <td>0</td>\n",
       "      <td>2</td>\n",
       "      <td>17</td>\n",
       "      <td>0</td>\n",
       "      <td>0</td>\n",
       "      <td>0</td>\n",
       "      <td>0</td>\n",
       "      <td>0</td>\n",
       "      <td>0.0</td>\n",
       "      <td>train</td>\n",
       "      <td>0</td>\n",
       "    </tr>\n",
       "    <tr>\n",
       "      <th>2</th>\n",
       "      <td>1</td>\n",
       "      <td>2</td>\n",
       "      <td>7</td>\n",
       "      <td>0</td>\n",
       "      <td>0</td>\n",
       "      <td>0</td>\n",
       "      <td>0</td>\n",
       "      <td>0</td>\n",
       "      <td>0.0</td>\n",
       "      <td>train</td>\n",
       "      <td>1</td>\n",
       "    </tr>\n",
       "    <tr>\n",
       "      <th>3</th>\n",
       "      <td>0</td>\n",
       "      <td>8</td>\n",
       "      <td>16</td>\n",
       "      <td>1</td>\n",
       "      <td>2080</td>\n",
       "      <td>3</td>\n",
       "      <td>2</td>\n",
       "      <td>230</td>\n",
       "      <td>0.0</td>\n",
       "      <td>train</td>\n",
       "      <td>0</td>\n",
       "    </tr>\n",
       "    <tr>\n",
       "      <th>4</th>\n",
       "      <td>6</td>\n",
       "      <td>7</td>\n",
       "      <td>6</td>\n",
       "      <td>1</td>\n",
       "      <td>2062</td>\n",
       "      <td>4</td>\n",
       "      <td>3</td>\n",
       "      <td>506</td>\n",
       "      <td>1.0</td>\n",
       "      <td>train</td>\n",
       "      <td>1</td>\n",
       "    </tr>\n",
       "  </tbody>\n",
       "</table>\n",
       "</div>"
      ],
      "text/plain": [
       "   No of logins in last 30 days  No of apps  Invited projects  \\\n",
       "0                             0           2                 7   \n",
       "1                             0           2                17   \n",
       "2                             1           2                 7   \n",
       "3                             0           8                16   \n",
       "4                             6           7                 6   \n",
       "\n",
       "   Is free project created?  Storage used  No of users invited  Users count  \\\n",
       "0                         0             0                    0            0   \n",
       "1                         0             0                    0            0   \n",
       "2                         0             0                    0            0   \n",
       "3                         1          2080                    3            2   \n",
       "4                         1          2062                    4            3   \n",
       "\n",
       "   User's activities count  Result source  Recent login  \n",
       "0                        0     0.0  train             0  \n",
       "1                        0     0.0  train             0  \n",
       "2                        0     0.0  train             1  \n",
       "3                      230     0.0  train             0  \n",
       "4                      506     1.0  train             1  "
      ]
     },
     "execution_count": 17,
     "metadata": {},
     "output_type": "execute_result"
    }
   ],
   "source": [
    "data.drop('User Id',axis=1,inplace=True)\n",
    "data.drop('Last login',axis=1,inplace=True)\n",
    "data.head()"
   ]
  },
  {
   "cell_type": "markdown",
   "metadata": {
    "id": "Mf3AYdL3t8wq"
   },
   "source": [
    "### **Step6: Feature Selection**"
   ]
  },
  {
   "cell_type": "code",
   "execution_count": 18,
   "metadata": {
    "colab": {
     "base_uri": "https://localhost:8080/"
    },
    "id": "WBJCBO2-Rbcu",
    "outputId": "8d85d3aa-6d73-4d17-b784-2194cd23348b"
   },
   "outputs": [
    {
     "data": {
      "text/plain": [
       "(119226, 9)"
      ]
     },
     "execution_count": 18,
     "metadata": {},
     "output_type": "execute_result"
    }
   ],
   "source": [
    "from sklearn.preprocessing import MinMaxScaler\n",
    "scaler=MinMaxScaler()\n",
    "numerical_features = numerical_features+['Recent login']\n",
    "scaler.fit(data[numerical_features])\n",
    "scaler.transform(data[numerical_features])\n",
    "data_final = pd.concat([data[['Result']].reset_index(drop=True),\n",
    "                    pd.DataFrame(scaler.transform(data[numerical_features]), columns=numerical_features)],\n",
    "                    axis=1)\n",
    "data_final['Recent login'] = data_final['Recent login'].astype('Int64')\n",
    "data_final.to_csv('./data/X_train.csv',index=False)\n",
    "data_final.shape"
   ]
  },
  {
   "cell_type": "code",
   "execution_count": 19,
   "metadata": {
    "id": "Zr0ikW2qzjB2"
   },
   "outputs": [],
   "source": [
    "from sklearn.feature_selection import SelectKBest\n",
    "from sklearn.feature_selection import chi2\n",
    "data_final['Result'] = data_final['Result'].astype('Int64')\n",
    "X = data_final.iloc[:,1:9]  #independent columns\n",
    "y = data_final['Result'].fillna(0)  #target column i.e Result\n",
    "y=y.astype('int')"
   ]
  },
  {
   "cell_type": "code",
   "execution_count": 20,
   "metadata": {
    "colab": {
     "base_uri": "https://localhost:8080/"
    },
    "id": "TQW2Y5_WuCcM",
    "outputId": "0ccc6e91-3ae3-49cc-aa5b-ab1972b1f2a8"
   },
   "outputs": [
    {
     "data": {
      "text/plain": [
       "array([7.12517853e+01, 4.78438827e-01, 4.92366934e-02, 1.81123506e+04,\n",
       "       1.74391949e+04, 2.22168216e+04, 1.93579164e+04, 7.21665446e+02])"
      ]
     },
     "execution_count": 20,
     "metadata": {},
     "output_type": "execute_result"
    }
   ],
   "source": [
    "bestfeatures = SelectKBest(score_func=chi2, k=8)\n",
    "fit = bestfeatures.fit(X,y)\n",
    "dfscores = pd.DataFrame(fit.scores_)\n",
    "dfcolumns = pd.DataFrame(X.columns)\n",
    "#concat two dataframes for better visualization \n",
    "featureScores = pd.concat([dfcolumns,dfscores],axis=1)\n",
    "fit.scores_"
   ]
  },
  {
   "cell_type": "code",
   "execution_count": 21,
   "metadata": {
    "colab": {
     "base_uri": "https://localhost:8080/",
     "height": 300
    },
    "id": "E8FHULPD4oU7",
    "outputId": "05e26071-bedc-4fd2-ca33-f7353e56c343"
   },
   "outputs": [
    {
     "data": {
      "text/html": [
       "<div>\n",
       "<style scoped>\n",
       "    .dataframe tbody tr th:only-of-type {\n",
       "        vertical-align: middle;\n",
       "    }\n",
       "\n",
       "    .dataframe tbody tr th {\n",
       "        vertical-align: top;\n",
       "    }\n",
       "\n",
       "    .dataframe thead th {\n",
       "        text-align: right;\n",
       "    }\n",
       "</style>\n",
       "<table border=\"1\" class=\"dataframe\">\n",
       "  <thead>\n",
       "    <tr style=\"text-align: right;\">\n",
       "      <th></th>\n",
       "      <th>Specs</th>\n",
       "      <th>Score</th>\n",
       "    </tr>\n",
       "  </thead>\n",
       "  <tbody>\n",
       "    <tr>\n",
       "      <th>0</th>\n",
       "      <td>No of logins in last 30 days</td>\n",
       "      <td>71.251785</td>\n",
       "    </tr>\n",
       "    <tr>\n",
       "      <th>1</th>\n",
       "      <td>No of apps</td>\n",
       "      <td>0.478439</td>\n",
       "    </tr>\n",
       "    <tr>\n",
       "      <th>2</th>\n",
       "      <td>Invited projects</td>\n",
       "      <td>0.049237</td>\n",
       "    </tr>\n",
       "    <tr>\n",
       "      <th>3</th>\n",
       "      <td>Storage used</td>\n",
       "      <td>18112.350586</td>\n",
       "    </tr>\n",
       "    <tr>\n",
       "      <th>4</th>\n",
       "      <td>No of users invited</td>\n",
       "      <td>17439.194915</td>\n",
       "    </tr>\n",
       "    <tr>\n",
       "      <th>5</th>\n",
       "      <td>Users count</td>\n",
       "      <td>22216.821561</td>\n",
       "    </tr>\n",
       "    <tr>\n",
       "      <th>6</th>\n",
       "      <td>User's activities count</td>\n",
       "      <td>19357.916430</td>\n",
       "    </tr>\n",
       "    <tr>\n",
       "      <th>7</th>\n",
       "      <td>Recent login</td>\n",
       "      <td>721.665446</td>\n",
       "    </tr>\n",
       "  </tbody>\n",
       "</table>\n",
       "</div>"
      ],
      "text/plain": [
       "                          Specs         Score\n",
       "0  No of logins in last 30 days     71.251785\n",
       "1                    No of apps      0.478439\n",
       "2              Invited projects      0.049237\n",
       "3                  Storage used  18112.350586\n",
       "4           No of users invited  17439.194915\n",
       "5                   Users count  22216.821561\n",
       "6       User's activities count  19357.916430\n",
       "7                  Recent login    721.665446"
      ]
     },
     "execution_count": 21,
     "metadata": {},
     "output_type": "execute_result"
    }
   ],
   "source": [
    "#concat two dataframes for better visualization \n",
    "featureScores = pd.concat([dfcolumns,dfscores],axis=1)\n",
    "featureScores.columns = ['Specs','Score']  #naming the dataframe columns\n",
    "featureScores"
   ]
  },
  {
   "cell_type": "code",
   "execution_count": 22,
   "metadata": {
    "colab": {
     "base_uri": "https://localhost:8080/"
    },
    "id": "WXQF3vIY7EvG",
    "outputId": "b17d6ccd-50de-4677-e432-cd7ed8767366"
   },
   "outputs": [
    {
     "name": "stdout",
     "output_type": "stream",
     "text": [
      "                          Specs         Score\n",
      "5                   Users count  22216.821561\n",
      "6       User's activities count  19357.916430\n",
      "3                  Storage used  18112.350586\n",
      "4           No of users invited  17439.194915\n",
      "7                  Recent login    721.665446\n",
      "0  No of logins in last 30 days     71.251785\n",
      "1                    No of apps      0.478439\n",
      "2              Invited projects      0.049237\n"
     ]
    }
   ],
   "source": [
    "print(featureScores.nlargest(10,'Score')) "
   ]
  },
  {
   "cell_type": "code",
   "execution_count": 23,
   "metadata": {
    "colab": {
     "base_uri": "https://localhost:8080/",
     "height": 300
    },
    "id": "gqb-xqGf5CRv",
    "outputId": "de18518b-6ad8-41e3-ccc9-dccb2b2736ce"
   },
   "outputs": [
    {
     "name": "stdout",
     "output_type": "stream",
     "text": [
      "[0.03704577 0.02577098 0.04122475 0.21674633 0.1444829  0.26069546\n",
      " 0.26629829 0.00773552]\n"
     ]
    },
    {
     "data": {
      "image/png": "[encoded data removed]",
      "text/plain": [
       "<Figure size 432x288 with 1 Axes>"
      ]
     },
     "metadata": {
      "needs_background": "light"
     },
     "output_type": "display_data"
    }
   ],
   "source": [
    "from sklearn.ensemble import ExtraTreesClassifier\n",
    "import matplotlib.pyplot as plt\n",
    "model = ExtraTreesClassifier()\n",
    "model.fit(X,y)\n",
    "print(model.feature_importances_) #use inbuilt class feature_importances of tree based classifiers\n",
    "feat_importances = pd.Series(model.feature_importances_, index=X.columns)\n",
    "feat_importances.nlargest(10).plot(kind='barh')\n",
    "plt.show()"
   ]
  },
  {
   "cell_type": "code",
   "execution_count": 24,
   "metadata": {
    "colab": {
     "base_uri": "https://localhost:8080/",
     "height": 1000
    },
    "id": "h6I1LTZi5IoR",
    "outputId": "4893e0b1-d03d-44f7-bd2f-e713a686db63"
   },
   "outputs": [
    {
     "data": {
      "image/png": "[encoded data removed]",
      "text/plain": [
       "<Figure size 1440x1440 with 2 Axes>"
      ]
     },
     "metadata": {
      "needs_background": "light"
     },
     "output_type": "display_data"
    }
   ],
   "source": [
    "import seaborn as sns\n",
    "#get correlations of each features in dataset\n",
    "corrmat = data_final.corr()\n",
    "top_corr_features = corrmat.index\n",
    "plt.figure(figsize=(20,20))\n",
    "#plot heat map\n",
    "g=sns.heatmap(data[top_corr_features].corr(),annot=True,cmap=\"RdYlGn\")"
   ]
  },
  {
   "cell_type": "code",
   "execution_count": 25,
   "metadata": {
    "colab": {
     "base_uri": "https://localhost:8080/"
    },
    "id": "w9OFQDKTrSCU",
    "outputId": "02a5d4d4-0056-4e1b-f044-514c8e90a040"
   },
   "outputs": [
    {
     "name": "stdout",
     "output_type": "stream",
     "text": [
      "total features: ['No of logins in last 30 days', 'No of apps', 'Invited projects', 'Storage used', 'No of users invited', 'Users count', \"User's activities count\", 'Recent login']\n",
      "selected features: ['Storage used', 'No of users invited', 'Users count', \"User's activities count\", 'Recent login']\n",
      "unselected features: ['No of logins in last 30 days', 'No of apps', 'Invited projects']\n"
     ]
    }
   ],
   "source": [
    "from sklearn.linear_model import Lasso\n",
    "from sklearn.feature_selection import SelectFromModel\n",
    "feature_sel_model = SelectFromModel(Lasso(alpha=0.005, random_state=0))\n",
    "feature_sel_model.fit(X, y)\n",
    "# selected_feature = X.columns[(feature_sel_model.get_support())]\n",
    "total_features = [feature for feature in X.columns]\n",
    "selected_features = [feature for feature in X.columns[(feature_sel_model.get_support())]]\n",
    "unselected_features = [feature for feature in X.columns if feature not in selected_features]\n",
    "print('total features: {}'.format(total_features))\n",
    "print('selected features: {}'.format(selected_features))\n",
    "print('unselected features: {}'.format(unselected_features))\n"
   ]
  },
  {
   "cell_type": "markdown",
   "metadata": {
    "id": "nZGQKrR36Wyr"
   },
   "source": [
    "Hence, the selected features for the model building -> **'Storage used', 'No of users invited', 'Users count', \"User's activities count\"**"
   ]
  },
  {
   "cell_type": "code",
   "execution_count": 26,
   "metadata": {
    "colab": {
     "base_uri": "https://localhost:8080/",
     "height": 206
    },
    "id": "REPctqTcPN5a",
    "outputId": "8d98304c-fc95-4de2-f640-3a607ebf4c8c"
   },
   "outputs": [
    {
     "data": {
      "text/html": [
       "<div>\n",
       "<style scoped>\n",
       "    .dataframe tbody tr th:only-of-type {\n",
       "        vertical-align: middle;\n",
       "    }\n",
       "\n",
       "    .dataframe tbody tr th {\n",
       "        vertical-align: top;\n",
       "    }\n",
       "\n",
       "    .dataframe thead th {\n",
       "        text-align: right;\n",
       "    }\n",
       "</style>\n",
       "<table border=\"1\" class=\"dataframe\">\n",
       "  <thead>\n",
       "    <tr style=\"text-align: right;\">\n",
       "      <th></th>\n",
       "      <th>Result</th>\n",
       "      <th>No of logins in last 30 days</th>\n",
       "      <th>No of apps</th>\n",
       "      <th>Invited projects</th>\n",
       "      <th>Storage used</th>\n",
       "      <th>No of users invited</th>\n",
       "      <th>Users count</th>\n",
       "      <th>User's activities count</th>\n",
       "      <th>Recent login</th>\n",
       "    </tr>\n",
       "  </thead>\n",
       "  <tbody>\n",
       "    <tr>\n",
       "      <th>0</th>\n",
       "      <td>0</td>\n",
       "      <td>0.000000</td>\n",
       "      <td>0.2</td>\n",
       "      <td>0.233333</td>\n",
       "      <td>0.0000</td>\n",
       "      <td>0.0</td>\n",
       "      <td>0.000000</td>\n",
       "      <td>0.000</td>\n",
       "      <td>0</td>\n",
       "    </tr>\n",
       "    <tr>\n",
       "      <th>1</th>\n",
       "      <td>0</td>\n",
       "      <td>0.000000</td>\n",
       "      <td>0.2</td>\n",
       "      <td>0.566667</td>\n",
       "      <td>0.0000</td>\n",
       "      <td>0.0</td>\n",
       "      <td>0.000000</td>\n",
       "      <td>0.000</td>\n",
       "      <td>0</td>\n",
       "    </tr>\n",
       "    <tr>\n",
       "      <th>2</th>\n",
       "      <td>0</td>\n",
       "      <td>0.033333</td>\n",
       "      <td>0.2</td>\n",
       "      <td>0.233333</td>\n",
       "      <td>0.0000</td>\n",
       "      <td>0.0</td>\n",
       "      <td>0.000000</td>\n",
       "      <td>0.000</td>\n",
       "      <td>1</td>\n",
       "    </tr>\n",
       "    <tr>\n",
       "      <th>3</th>\n",
       "      <td>0</td>\n",
       "      <td>0.000000</td>\n",
       "      <td>0.8</td>\n",
       "      <td>0.533333</td>\n",
       "      <td>0.4160</td>\n",
       "      <td>0.6</td>\n",
       "      <td>0.333333</td>\n",
       "      <td>0.230</td>\n",
       "      <td>0</td>\n",
       "    </tr>\n",
       "    <tr>\n",
       "      <th>4</th>\n",
       "      <td>1</td>\n",
       "      <td>0.200000</td>\n",
       "      <td>0.7</td>\n",
       "      <td>0.200000</td>\n",
       "      <td>0.4124</td>\n",
       "      <td>0.8</td>\n",
       "      <td>0.500000</td>\n",
       "      <td>0.506</td>\n",
       "      <td>1</td>\n",
       "    </tr>\n",
       "  </tbody>\n",
       "</table>\n",
       "</div>"
      ],
      "text/plain": [
       "   Result  No of logins in last 30 days  No of apps  Invited projects  \\\n",
       "0       0                      0.000000         0.2          0.233333   \n",
       "1       0                      0.000000         0.2          0.566667   \n",
       "2       0                      0.033333         0.2          0.233333   \n",
       "3       0                      0.000000         0.8          0.533333   \n",
       "4       1                      0.200000         0.7          0.200000   \n",
       "\n",
       "   Storage used  No of users invited  Users count  User's activities count  \\\n",
       "0        0.0000                  0.0     0.000000                    0.000   \n",
       "1        0.0000                  0.0     0.000000                    0.000   \n",
       "2        0.0000                  0.0     0.000000                    0.000   \n",
       "3        0.4160                  0.6     0.333333                    0.230   \n",
       "4        0.4124                  0.8     0.500000                    0.506   \n",
       "\n",
       "   Recent login  \n",
       "0             0  \n",
       "1             0  \n",
       "2             1  \n",
       "3             0  \n",
       "4             1  "
      ]
     },
     "execution_count": 26,
     "metadata": {},
     "output_type": "execute_result"
    }
   ],
   "source": [
    "data_final.head()"
   ]
  },
  {
   "cell_type": "code",
   "execution_count": 27,
   "metadata": {
    "colab": {
     "base_uri": "https://localhost:8080/"
    },
    "id": "d4Fou53dM-ua",
    "outputId": "ab8337d6-a4b1-49a4-f66b-cd034db21418"
   },
   "outputs": [
    {
     "data": {
      "text/plain": [
       "((109227, 5), (9999, 4))"
      ]
     },
     "execution_count": 27,
     "metadata": {},
     "output_type": "execute_result"
    }
   ],
   "source": [
    "train=data.loc[data['source']=='train']\n",
    "test=data.loc[data['source']=='test']\n",
    "train.drop(['No of logins in last 30 days', 'No of apps', 'Invited projects', 'Recent login', 'Is free project created?', 'source'],axis=1,inplace=True)\n",
    "test.drop(['No of logins in last 30 days', 'No of apps', 'Invited projects', 'Recent login', 'Is free project created?', 'source','Result'],axis=1,inplace=True)\n",
    "train.shape,test.shape"
   ]
  },
  {
   "cell_type": "code",
   "execution_count": 28,
   "metadata": {
    "colab": {
     "base_uri": "https://localhost:8080/"
    },
    "id": "1U8W3th-CCbT",
    "outputId": "e8bc2ee7-61cb-456b-a5a8-b3cbe7f83638"
   },
   "outputs": [
    {
     "name": "stdout",
     "output_type": "stream",
     "text": [
      "Collecting imbalanced-learn\n",
      "  Downloading imbalanced_learn-0.9.0-py3-none-any.whl (199 kB)\n",
      "     |████████████████████████████████| 199 kB 25.3 MB/s            \n",
      "\u001b[?25hRequirement already satisfied: scipy>=1.1.0 in /home/ec2-user/anaconda3/envs/python3/lib/python3.6/site-packages (from imbalanced-learn) (1.5.3)\n",
      "Requirement already satisfied: numpy>=1.14.6 in /home/ec2-user/anaconda3/envs/python3/lib/python3.6/site-packages (from imbalanced-learn) (1.19.5)\n",
      "Requirement already satisfied: joblib>=0.11 in /home/ec2-user/anaconda3/envs/python3/lib/python3.6/site-packages (from imbalanced-learn) (1.0.1)\n",
      "  Downloading imbalanced_learn-0.8.1-py3-none-any.whl (189 kB)\n",
      "     |████████████████████████████████| 189 kB 63.5 MB/s            \n",
      "\u001b[?25hRequirement already satisfied: scikit-learn>=0.24 in /home/ec2-user/anaconda3/envs/python3/lib/python3.6/site-packages (from imbalanced-learn) (0.24.1)\n",
      "Requirement already satisfied: threadpoolctl>=2.0.0 in /home/ec2-user/anaconda3/envs/python3/lib/python3.6/site-packages (from scikit-learn>=0.24->imbalanced-learn) (2.1.0)\n",
      "Installing collected packages: imbalanced-learn\n",
      "Successfully installed imbalanced-learn-0.8.1\n"
     ]
    },
    {
     "data": {
      "text/plain": [
       "LogisticRegression(random_state=0, solver='liblinear')"
      ]
     },
     "execution_count": 28,
     "metadata": {},
     "output_type": "execute_result"
    }
   ],
   "source": [
    "X=train.drop(['Result'],axis=1)\n",
    "y=train['Result'].astype('int')\n",
    "\n",
    "!{sys.executable}  -m pip install imbalanced-learn\n",
    "# test.drop(['Response'],axis=1,inplace=True) ## For Final Prediction\n",
    "from sklearn.model_selection import train_test_split,cross_val_score,KFold\n",
    "from sklearn.metrics import roc_auc_score\n",
    "from sklearn.metrics import roc_curve\n",
    "from sklearn.preprocessing import StandardScaler\n",
    "from sklearn.linear_model import LogisticRegression\n",
    "from sklearn.tree import DecisionTreeClassifier\n",
    "from sklearn.ensemble import RandomForestClassifier\n",
    "from sklearn.neighbors import KNeighborsClassifier \n",
    "from imblearn import under_sampling, over_sampling\n",
    "from imblearn.over_sampling import SMOTE\n",
    "\n",
    "x_train,x_test,y_train,y_test = train_test_split(X,y,test_size = 0.30 ,random_state = 5)\n",
    "lr=LogisticRegression(solver=\"liblinear\", random_state=0)\n",
    "\n",
    "lr.fit(x_train,y_train)"
   ]
  },
  {
   "cell_type": "code",
   "execution_count": 29,
   "metadata": {
    "colab": {
     "base_uri": "https://localhost:8080/",
     "height": 314
    },
    "id": "Tu9C4B-bQDx2",
    "outputId": "deea7a39-1550-42d9-fcc6-bd7e469504a6"
   },
   "outputs": [
    {
     "name": "stdout",
     "output_type": "stream",
     "text": [
      "No Skill: ROC AUC=0.500\n",
      "Logistic: ROC AUC=0.991\n"
     ]
    },
    {
     "data": {
      "image/png": "[encoded data removed]",
      "text/plain": [
       "<Figure size 432x288 with 1 Axes>"
      ]
     },
     "metadata": {
      "needs_background": "light"
     },
     "output_type": "display_data"
    }
   ],
   "source": [
    "## Before Balancing\n",
    "\n",
    "ns_probs = [0 for _ in range(len(y_test))]\n",
    "\n",
    "lr_probs = lr.predict_proba(x_test)\n",
    "# keep probabilities for the positive outcome only\n",
    "lr_probs = lr_probs[:, 1]\n",
    "# calculate scores\n",
    "ns_auc = roc_auc_score(y_test, ns_probs)\n",
    "lr_auc = roc_auc_score(y_test, lr_probs)\n",
    "# summarize scores\n",
    "print('No Skill: ROC AUC=%.3f' % (ns_auc))\n",
    "print('Logistic: ROC AUC=%.3f' % (lr_auc))\n",
    "# calculate roc curves\n",
    "ns_fpr, ns_tpr, _ = roc_curve(y_test, ns_probs)\n",
    "lr_fpr, lr_tpr, _ = roc_curve(y_test, lr_probs)\n",
    "# plot the roc curve for the model\n",
    "plt.plot(ns_fpr, ns_tpr, linestyle='--', label='No Skill')\n",
    "plt.plot(lr_fpr, lr_tpr, marker='.', label='Logistic')\n",
    "# axis labels\n",
    "plt.xlabel('False Positive Rate')\n",
    "plt.ylabel('True Positive Rate')\n",
    "# show the legend\n",
    "plt.legend()\n",
    "# show the plot\n",
    "\n",
    "plt.show()"
   ]
  },
  {
   "cell_type": "markdown",
   "metadata": {
    "id": "p0POV-QJQL1N"
   },
   "source": [
    "We can see that with using simplest Classification Algorithm we are able to get ROC-AUC score as 0.991"
   ]
  },
  {
   "cell_type": "markdown",
   "metadata": {
    "id": "sfdVifx87rBi"
   },
   "source": [
    "##### Handling an Unbalanced Dataset"
   ]
  },
  {
   "cell_type": "code",
   "execution_count": 30,
   "metadata": {
    "id": "KcseMlbc6ibN"
   },
   "outputs": [],
   "source": [
    "\n",
    "smote = SMOTE()\n",
    "X_balanced, y_balanced = smote.fit_resample(X, y)\n",
    "X_train_balanced,X_test_balanced,y_train_balanced,y_test_balanced=train_test_split(X_balanced,y_balanced,test_size=0.3,random_state=5)"
   ]
  },
  {
   "cell_type": "code",
   "execution_count": 31,
   "metadata": {
    "colab": {
     "base_uri": "https://localhost:8080/",
     "height": 386
    },
    "id": "dNXnnc4IQhbD",
    "outputId": "05f4a118-d1d2-41f1-fff4-f2dc3bb88db0"
   },
   "outputs": [
    {
     "data": {
      "image/png": "[encoded data removed]",
      "text/plain": [
       "<Figure size 432x288 with 2 Axes>"
      ]
     },
     "metadata": {
      "needs_background": "light"
     },
     "output_type": "display_data"
    }
   ],
   "source": [
    "plt.subplot(121)\n",
    "sns.countplot(y_train)\n",
    "plt.title('Imbalanced dataset')\n",
    "\n",
    "plt.subplot(122)\n",
    "sns.countplot(y_train_balanced)\n",
    "plt.title('Balanced dataset')\n",
    "\n",
    "plt.savefig('./output/balanced_vs_unbalanced_dataset.png')\n",
    "plt.tight_layout()\n",
    "plt.show()"
   ]
  },
  {
   "cell_type": "code",
   "execution_count": 32,
   "metadata": {
    "colab": {
     "base_uri": "https://localhost:8080/"
    },
    "id": "5ZFrIjjZQsmi",
    "outputId": "cd91425c-07ef-41dc-8c43-e78f8498807f"
   },
   "outputs": [
    {
     "data": {
      "text/plain": [
       "LogisticRegression(random_state=0, solver='liblinear')"
      ]
     },
     "execution_count": 32,
     "metadata": {},
     "output_type": "execute_result"
    }
   ],
   "source": [
    "\n",
    "lr_balanced=LogisticRegression(solver=\"liblinear\", random_state=0)\n",
    "lr_balanced.fit(X_train_balanced,y_train_balanced)"
   ]
  },
  {
   "cell_type": "code",
   "execution_count": 33,
   "metadata": {
    "colab": {
     "base_uri": "https://localhost:8080/",
     "height": 330
    },
    "id": "ZouhzAPCQxKc",
    "outputId": "52b6e004-5432-408c-803d-6d92aeb73fea"
   },
   "outputs": [
    {
     "name": "stdout",
     "output_type": "stream",
     "text": [
      "No Skill: ROC AUC=0.500\n",
      "Logistic: ROC AUC=0.992\n"
     ]
    },
    {
     "data": {
      "image/png": "[encoded data removed]",
      "text/plain": [
       "<Figure size 432x288 with 1 Axes>"
      ]
     },
     "metadata": {
      "needs_background": "light"
     },
     "output_type": "display_data"
    }
   ],
   "source": [
    "## After Balancing\n",
    "ns_probs = [0 for _ in range(len(y_test_balanced))]\n",
    "\n",
    "\n",
    "lr_probs = lr_balanced.predict_proba(X_test_balanced)\n",
    "# keep probabilities for the positive outcome only\n",
    "lr_probs = lr_probs[:, 1]\n",
    "# calculate scores\n",
    "ns_auc = roc_auc_score(y_test_balanced, ns_probs)\n",
    "lr_auc = roc_auc_score(y_test_balanced, lr_probs)\n",
    "# summarize scores\n",
    "print('No Skill: ROC AUC=%.3f' % (ns_auc))\n",
    "print('Logistic: ROC AUC=%.3f' % (lr_auc))\n",
    "# calculate roc curves\n",
    "ns_fpr, ns_tpr, _ = roc_curve(y_test_balanced, ns_probs)\n",
    "lr_fpr, lr_tpr, _ = roc_curve(y_test_balanced, lr_probs)\n",
    "# plot the roc curve for the model\n",
    "plt.plot(ns_fpr, ns_tpr, linestyle='--', label='No Skill')\n",
    "plt.plot(lr_fpr, lr_tpr, marker='.', label='Logistic')\n",
    "# axis labels\n",
    "plt.xlabel('False Positive Rate')\n",
    "plt.ylabel('True Positive Rate')\n",
    "# show the legend\n",
    "plt.legend()\n",
    "# show the plot\n",
    "\n",
    "plt.title('ROC-AUC_Curve')\n",
    "\n",
    "plt.show()"
   ]
  },
  {
   "cell_type": "markdown",
   "metadata": {
    "id": "-7EYEmFdQ29E"
   },
   "source": [
    "We can clearly see that after Balancing the ratio of target variable . Our ROC-AUC score has increased to from 0.991 to 0.992."
   ]
  },
  {
   "cell_type": "markdown",
   "metadata": {
    "id": "oo4usEKw7wpU"
   },
   "source": [
    "Testing across various models., We will be using Cross-Validation to find the model which has the best accuracy."
   ]
  },
  {
   "cell_type": "code",
   "execution_count": 34,
   "metadata": {
    "id": "K0pMxEIT7y4Y"
   },
   "outputs": [],
   "source": [
    "models=[]\n",
    "models.append(('LogisticRegression',LogisticRegression(solver=\"liblinear\", random_state=5)))\n",
    "models.append(('DecisionTree',DecisionTreeClassifier(random_state=5)))\n",
    "models.append(('RandomForest',RandomForestClassifier(random_state=5)))\n",
    "models.append(('knn',KNeighborsClassifier()))"
   ]
  },
  {
   "cell_type": "code",
   "execution_count": 35,
   "metadata": {
    "colab": {
     "base_uri": "https://localhost:8080/"
    },
    "id": "Ws8xAG0g77L1",
    "outputId": "58f726cb-3929-41d1-aba5-f28e6828a568"
   },
   "outputs": [
    {
     "name": "stderr",
     "output_type": "stream",
     "text": [
      "[Parallel(n_jobs=1)]: Using backend SequentialBackend with 1 concurrent workers.\n",
      "[Parallel(n_jobs=1)]: Done   5 out of   5 | elapsed:    1.7s finished\n",
      "[Parallel(n_jobs=1)]: Using backend SequentialBackend with 1 concurrent workers.\n"
     ]
    },
    {
     "name": "stdout",
     "output_type": "stream",
     "text": [
      "LogisticRegression: 0.991211 (0.000275)\n"
     ]
    },
    {
     "name": "stderr",
     "output_type": "stream",
     "text": [
      "[Parallel(n_jobs=1)]: Done   5 out of   5 | elapsed:    0.4s finished\n",
      "[Parallel(n_jobs=1)]: Using backend SequentialBackend with 1 concurrent workers.\n"
     ]
    },
    {
     "name": "stdout",
     "output_type": "stream",
     "text": [
      "DecisionTree: 0.992644 (0.000213)\n"
     ]
    },
    {
     "name": "stderr",
     "output_type": "stream",
     "text": [
      "[Parallel(n_jobs=1)]: Done   5 out of   5 | elapsed:   16.8s finished\n",
      "[Parallel(n_jobs=1)]: Using backend SequentialBackend with 1 concurrent workers.\n"
     ]
    },
    {
     "name": "stdout",
     "output_type": "stream",
     "text": [
      "RandomForest: 0.993263 (0.000192)\n",
      "knn: 0.989778 (0.000455)\n"
     ]
    },
    {
     "name": "stderr",
     "output_type": "stream",
     "text": [
      "[Parallel(n_jobs=1)]: Done   5 out of   5 | elapsed:   57.8s finished\n"
     ]
    }
   ],
   "source": [
    "results=[]\n",
    "names=[]\n",
    "for name,model in models:   \n",
    "    kf=KFold(n_splits=5,shuffle=True,random_state=5)\n",
    "    cv_score=cross_val_score(model,X_balanced,y_balanced,cv=kf,scoring='roc_auc',verbose=1)\n",
    "    results.append(cv_score)\n",
    "    names.append(name)\n",
    "    msg = \"%s: %f (%f)\" % (name, cv_score.mean(), cv_score.std())\n",
    "    print(msg)"
   ]
  },
  {
   "cell_type": "code",
   "execution_count": 36,
   "metadata": {
    "colab": {
     "base_uri": "https://localhost:8080/",
     "height": 294
    },
    "id": "I-7XCg97SIYM",
    "outputId": "379e31f5-b593-4d80-c1c1-4cf05469ecb9"
   },
   "outputs": [
    {
     "data": {
      "image/png": "[encoded data removed]",
      "text/plain": [
       "<Figure size 432x288 with 1 Axes>"
      ]
     },
     "metadata": {
      "needs_background": "light"
     },
     "output_type": "display_data"
    }
   ],
   "source": [
    "fig = plt.figure()\n",
    "fig.suptitle('Algorithm Comparison')\n",
    "ax = fig.add_subplot(111)\n",
    "plt.boxplot(results)\n",
    "ax.set_xticklabels(names)\n",
    "plt.savefig('./output/model_comparison.png')\n",
    "plt.show()"
   ]
  },
  {
   "cell_type": "markdown",
   "metadata": {
    "id": "R1LH2vQ88BE6"
   },
   "source": [
    "##### **ROC-AUC curve for all the models**"
   ]
  },
  {
   "cell_type": "code",
   "execution_count": 37,
   "metadata": {
    "colab": {
     "base_uri": "https://localhost:8080/",
     "height": 295
    },
    "id": "tWtz_zJn8Cw6",
    "outputId": "6924edb8-620a-406a-b2c7-fdc424dd4699"
   },
   "outputs": [
    {
     "data": {
      "image/png": "[encoded data removed]",
      "text/plain": [
       "<Figure size 432x288 with 1 Axes>"
      ]
     },
     "metadata": {
      "needs_background": "light"
     },
     "output_type": "display_data"
    }
   ],
   "source": [
    "for name,model in models:\n",
    "#     model = m['model'] # select the model\n",
    "    model.fit(x_train, y_train) # train the model\n",
    "    y_pred=model.predict(x_test) # predict the test data\n",
    "# Compute False postive rate, and True positive rate\n",
    "    fpr, tpr, thresholds = roc_curve(y_test, model.predict_proba(x_test)[:,1])\n",
    "# Calculate Area under the curve to display on the plot\n",
    "    auc =roc_auc_score(y_test,model.predict(x_test))\n",
    "# Now, plot the computed values\n",
    "    plt.plot(fpr, tpr, label='%s ROC (area = %0.2f)' % (name, auc))\n",
    "# Custom settings for the plot \n",
    "plt.plot([0, 1], [0, 1],'r--')\n",
    "plt.xlim([0.0, 1.0])\n",
    "plt.ylim([0.0, 1.05])\n",
    "plt.xlabel('1-Specificity(False Positive Rate)')\n",
    "plt.ylabel('Sensitivity(True Positive Rate)')\n",
    "plt.title('Receiver Operating Characteristic')\n",
    "plt.legend(loc=\"lower right\")\n",
    "plt.show()   # Display"
   ]
  },
  {
   "cell_type": "markdown",
   "metadata": {
    "id": "0rk23LpnSZlR"
   },
   "source": [
    "We can see that RandomForest has performed the best so we will go with it."
   ]
  },
  {
   "cell_type": "code",
   "execution_count": 38,
   "metadata": {
    "colab": {
     "base_uri": "https://localhost:8080/"
    },
    "id": "Ct3PQfiLSb1J",
    "outputId": "4c33725b-d769-4c08-b4ce-3c48b1e7a422"
   },
   "outputs": [
    {
     "name": "stdout",
     "output_type": "stream",
     "text": [
      "ROC-AUC score for Random Forest:  0.9929575256307102\n"
     ]
    }
   ],
   "source": [
    "rtree=RandomForestClassifier(random_state=5)\n",
    "rtree.fit(X_train_balanced,y_train_balanced)\n",
    "y_pred=rtree.predict(X_test_balanced)\n",
    "print('ROC-AUC score for Random Forest: ',roc_auc_score(y_test_balanced,y_pred))\n"
   ]
  },
  {
   "cell_type": "code",
   "execution_count": 39,
   "metadata": {
    "colab": {
     "base_uri": "https://localhost:8080/",
     "height": 347
    },
    "id": "vP7H86TIbEn5",
    "outputId": "98a2a447-7d9e-4b46-facb-b2722889c73f"
   },
   "outputs": [
    {
     "name": "stdout",
     "output_type": "stream",
     "text": [
      "No Skill: ROC AUC=0.500\n",
      "Test Score: ROC AUC=0.993\n",
      "Train Score: ROC AUC=0.994\n"
     ]
    },
    {
     "data": {
      "image/png": "[encoded data removed]",
      "text/plain": [
       "<Figure size 432x288 with 1 Axes>"
      ]
     },
     "metadata": {
      "needs_background": "light"
     },
     "output_type": "display_data"
    }
   ],
   "source": [
    "ns_probs = [0 for _ in range(len(y_test_balanced))]\n",
    "\n",
    "## Tst\n",
    "lr_probs_test = rtree.predict_proba(X_test_balanced)\n",
    "# keep probabilities for the positive outcome only\n",
    "lr_probs_test = lr_probs_test[:, 1]\n",
    "\n",
    "## Train\n",
    "lr_probs_train = rtree.predict_proba(X_train_balanced)\n",
    "# keep probabilities for the positive outcome only\n",
    "lr_probs_train = lr_probs_train[:, 1]\n",
    "\n",
    "# calculate scores\n",
    "ns_auc = roc_auc_score(y_test_balanced, ns_probs)\n",
    "lr_auc_test = roc_auc_score(y_test_balanced, lr_probs_test)\n",
    "lr_auc_train = roc_auc_score(y_train_balanced, lr_probs_train)\n",
    "# summarize scores\n",
    "print('No Skill: ROC AUC=%.3f' % (ns_auc))\n",
    "print('Test Score: ROC AUC=%.3f' % (lr_auc_test))\n",
    "print('Train Score: ROC AUC=%.3f' % (lr_auc_train))\n",
    "\n",
    "# calculate roc curves\n",
    "ns_fpr, ns_tpr, _ = roc_curve(y_test_balanced, ns_probs)\n",
    "lr_fpr_test, lr_tpr_test, _ = roc_curve(y_test_balanced, lr_probs_test)\n",
    "lr_fpr_train, lr_tpr_train, _ = roc_curve(y_train_balanced, lr_probs_train)\n",
    "\n",
    "# plot the roc curve for the model\n",
    "plt.plot(ns_fpr, ns_tpr, linestyle='--', label='No Skill')\n",
    "plt.plot(lr_fpr_test, lr_tpr_test, marker='.', label='Test')\n",
    "plt.plot(lr_fpr_train, lr_tpr_train, marker='.', label='Train')\n",
    "# axis labels\n",
    "plt.xlabel('False Positive Rate')\n",
    "plt.ylabel('True Positive Rate')\n",
    "# show the legend\n",
    "plt.legend()\n",
    "# show the plot\n",
    "plt.title('Random_Forest ROC-AUC Curve')\n",
    "plt.savefig('./output/Random_Forest ROC-AUC Curve.png')\n",
    "plt.show()"
   ]
  },
  {
   "cell_type": "markdown",
   "metadata": {
    "id": "bX0lN_BH8OlM"
   },
   "source": [
    "Ensembled methods to increase our accuracy."
   ]
  },
  {
   "cell_type": "code",
   "execution_count": 40,
   "metadata": {
    "id": "9qi4GE5c8MC6"
   },
   "outputs": [
    {
     "name": "stdout",
     "output_type": "stream",
     "text": [
      "Collecting xgboost\n",
      "  Downloading xgboost-1.5.2-py3-none-manylinux2014_x86_64.whl (173.6 MB)\n",
      "     |████████████████████████████████| 173.6 MB 2.3 kB/s             \n",
      "\u001b[?25hRequirement already satisfied: numpy in /home/ec2-user/anaconda3/envs/python3/lib/python3.6/site-packages (from xgboost) (1.19.5)\n",
      "Requirement already satisfied: scipy in /home/ec2-user/anaconda3/envs/python3/lib/python3.6/site-packages (from xgboost) (1.5.3)\n",
      "Installing collected packages: xgboost\n",
      "Successfully installed xgboost-1.5.2\n",
      "[07:02:00] WARNING: ../src/learner.cc:1115: Starting in XGBoost 1.3.0, the default evaluation metric used with the objective 'binary:logistic' was changed from 'error' to 'logloss'. Explicitly set eval_metric if you'd like to restore the old behavior.\n"
     ]
    }
   ],
   "source": [
    "!{sys.executable} -m pip install xgboost\n",
    "from xgboost import XGBClassifier\n",
    "xgb=XGBClassifier(random_state=5,max_depth=5)\n",
    "xgb.fit(X_train_balanced,y_train_balanced)\n",
    "y_pred=xgb.predict(X_test_balanced)"
   ]
  },
  {
   "cell_type": "code",
   "execution_count": 41,
   "metadata": {
    "colab": {
     "base_uri": "https://localhost:8080/",
     "height": 347
    },
    "id": "MKTOfNhYbJWK",
    "outputId": "1f4616cc-1621-492f-a9c0-72212c38f2d3"
   },
   "outputs": [
    {
     "name": "stdout",
     "output_type": "stream",
     "text": [
      "No Skill: ROC AUC=0.500\n",
      "Test Score: ROC AUC=0.994\n",
      "Train Score: ROC AUC=0.994\n"
     ]
    },
    {
     "data": {
      "image/png": "[encoded data removed]",
      "text/plain": [
       "<Figure size 432x288 with 1 Axes>"
      ]
     },
     "metadata": {
      "needs_background": "light"
     },
     "output_type": "display_data"
    }
   ],
   "source": [
    "ns_probs = [0 for _ in range(len(y_test_balanced))]\n",
    "\n",
    "## Tst\n",
    "lr_probs_test = xgb.predict_proba(X_test_balanced)\n",
    "# keep probabilities for the positive outcome only\n",
    "lr_probs_test = lr_probs_test[:, 1]\n",
    "\n",
    "## Train\n",
    "lr_probs_train = xgb.predict_proba(X_train_balanced)\n",
    "# keep probabilities for the positive outcome only\n",
    "lr_probs_train = lr_probs_train[:, 1]\n",
    "\n",
    "# calculate scores\n",
    "ns_auc = roc_auc_score(y_test_balanced, ns_probs)\n",
    "lr_auc_test = roc_auc_score(y_test_balanced, lr_probs_test)\n",
    "lr_auc_train = roc_auc_score(y_train_balanced, lr_probs_train)\n",
    "# summarize scores\n",
    "print('No Skill: ROC AUC=%.3f' % (ns_auc))\n",
    "print('Test Score: ROC AUC=%.3f' % (lr_auc_test))\n",
    "print('Train Score: ROC AUC=%.3f' % (lr_auc_train))\n",
    "\n",
    "# calculate roc curves\n",
    "ns_fpr, ns_tpr, _ = roc_curve(y_test_balanced, ns_probs)\n",
    "lr_fpr_test, lr_tpr_test, _ = roc_curve(y_test_balanced, lr_probs_test)\n",
    "lr_fpr_train, lr_tpr_train, _ = roc_curve(y_train_balanced, lr_probs_train)\n",
    "\n",
    "# plot the roc curve for the model\n",
    "plt.plot(ns_fpr, ns_tpr, linestyle='--', label='No Skill')\n",
    "plt.plot(lr_fpr_test, lr_tpr_test, marker='.', label='Test')\n",
    "plt.plot(lr_fpr_train, lr_tpr_train, marker='.', label='Train')\n",
    "# axis labels\n",
    "plt.xlabel('False Positive Rate')\n",
    "plt.ylabel('True Positive Rate')\n",
    "# show the legend\n",
    "plt.legend()\n",
    "# show the plot\n",
    "plt.title('XGB ROC-AUC Curve')\n",
    "plt.savefig('./output/xgb_ROC-AUC Curve.png')\n",
    "plt.show()"
   ]
  },
  {
   "cell_type": "markdown",
   "metadata": {
    "id": "L4urJV_g8Vj1"
   },
   "source": [
    "XGB Classifier for final predictions."
   ]
  },
  {
   "cell_type": "code",
   "execution_count": 42,
   "metadata": {
    "colab": {
     "base_uri": "https://localhost:8080/",
     "height": 206
    },
    "id": "S94ZrfZg8S-J",
    "outputId": "5edfc133-e408-4617-e63e-7f396bd7e77b"
   },
   "outputs": [
    {
     "data": {
      "text/html": [
       "<div>\n",
       "<style scoped>\n",
       "    .dataframe tbody tr th:only-of-type {\n",
       "        vertical-align: middle;\n",
       "    }\n",
       "\n",
       "    .dataframe tbody tr th {\n",
       "        vertical-align: top;\n",
       "    }\n",
       "\n",
       "    .dataframe thead th {\n",
       "        text-align: right;\n",
       "    }\n",
       "</style>\n",
       "<table border=\"1\" class=\"dataframe\">\n",
       "  <thead>\n",
       "    <tr style=\"text-align: right;\">\n",
       "      <th></th>\n",
       "      <th>id</th>\n",
       "      <th>Result</th>\n",
       "    </tr>\n",
       "  </thead>\n",
       "  <tbody>\n",
       "    <tr>\n",
       "      <th>0</th>\n",
       "      <td>f0527f66-9e71-4364-b550-840b9955dcc7</td>\n",
       "      <td>1</td>\n",
       "    </tr>\n",
       "    <tr>\n",
       "      <th>1</th>\n",
       "      <td>0421417f-62a1-45c6-8db9-f4bcc7e01377</td>\n",
       "      <td>1</td>\n",
       "    </tr>\n",
       "    <tr>\n",
       "      <th>2</th>\n",
       "      <td>b358515e-01c8-4744-884d-4fbbddae7bce</td>\n",
       "      <td>1</td>\n",
       "    </tr>\n",
       "    <tr>\n",
       "      <th>3</th>\n",
       "      <td>b0d4aec2-da74-4c7b-83a8-4e0655329960</td>\n",
       "      <td>0</td>\n",
       "    </tr>\n",
       "    <tr>\n",
       "      <th>4</th>\n",
       "      <td>84a4a8b8-a93f-43aa-88e9-48844e8f9979</td>\n",
       "      <td>0</td>\n",
       "    </tr>\n",
       "  </tbody>\n",
       "</table>\n",
       "</div>"
      ],
      "text/plain": [
       "                                     id  Result\n",
       "0  f0527f66-9e71-4364-b550-840b9955dcc7       1\n",
       "1  0421417f-62a1-45c6-8db9-f4bcc7e01377       1\n",
       "2  b358515e-01c8-4744-884d-4fbbddae7bce       1\n",
       "3  b0d4aec2-da74-4c7b-83a8-4e0655329960       0\n",
       "4  84a4a8b8-a93f-43aa-88e9-48844e8f9979       0"
      ]
     },
     "execution_count": 42,
     "metadata": {},
     "output_type": "execute_result"
    }
   ],
   "source": [
    "predsTest = xgb.predict(test)\n",
    "submission = pd.DataFrame({  \"id\": test_data['User Id'], \"Result\":predsTest })\n",
    "submission.to_csv('./output/XGB_submission.csv', index=False)\n",
    "submission.head()"
   ]
  },
  {
   "cell_type": "markdown",
   "metadata": {},
   "source": [
    "##### As we have selected the XGB Classifier for final predictions, we will upload the processed trained and test data to S3 to build model using a built-in XGBoost open source algorithm provided by sagemaker"
   ]
  },
  {
   "cell_type": "code",
   "execution_count": 43,
   "metadata": {},
   "outputs": [],
   "source": [
    "x_test.to_csv(os.path.join(data_dir, 'test.csv'), header=False, index=False)\n",
    "pd.concat([y_test_balanced, X_test_balanced], axis=1).to_csv(os.path.join(data_dir, 'validation.csv'), header=False, index=False)\n",
    "pd.concat([y_train_balanced, X_train_balanced], axis=1).to_csv(os.path.join(data_dir, 'train.csv'), header=False, index=False)\n"
   ]
  },
  {
   "cell_type": "markdown",
   "metadata": {},
   "source": [
    "When we construct a training job using SageMaker, a container is executed which performs the training operation. This container is given access to data that is stored in S3. This means that we need to upload the data we want to use for training to S3. Also, when we perform a batch transform job while testing our model, SageMaker expects the input data to be stored on S3. We will be using the SageMaker API to do this.\n",
    "Notice while creating our train and validation data the labels are concatenated as the first column. We do this so because, for the train & validation data, it is assumed that the first entry in each row is the target variable.\n",
    "Now we will be uploading our data to S3 using sagemaker’s upload_data method. The data will be uploaded in the default S3 bucket associated with the current Sagemaker session."
   ]
  },
  {
   "cell_type": "code",
   "execution_count": 44,
   "metadata": {},
   "outputs": [],
   "source": [
    "test_location = session.upload_data(os.path.join(data_dir, 'test.csv'), key_prefix=prefix)\n",
    "val_location = session.upload_data(os.path.join(data_dir, 'validation.csv'), key_prefix=prefix)\n",
    "train_location = session.upload_data(os.path.join(data_dir, 'train.csv'), key_prefix=prefix)\n"
   ]
  },
  {
   "cell_type": "markdown",
   "metadata": {},
   "source": [
    "##### **Training the Model**"
   ]
  },
  {
   "cell_type": "code",
   "execution_count": 45,
   "metadata": {},
   "outputs": [
    {
     "name": "stderr",
     "output_type": "stream",
     "text": [
      "The method get_image_uri has been renamed in sagemaker>=2.\n",
      "See: https://sagemaker.readthedocs.io/en/stable/v2.html for details.\n",
      "train_instance_count has been renamed in sagemaker>=2.\n",
      "See: https://sagemaker.readthedocs.io/en/stable/v2.html for details.\n",
      "train_instance_type has been renamed in sagemaker>=2.\n",
      "See: https://sagemaker.readthedocs.io/en/stable/v2.html for details.\n"
     ]
    }
   ],
   "source": [
    "container = get_image_uri(boto3.Session().region_name, 'xgboost',  repo_version='1.0-1')\n",
    "xgb = sagemaker.estimator.Estimator(container, role, train_instance_count=1, train_instance_type='ml.m4.xlarge', output_path='s3://{}/{}/output'.format(bucket_name, 'model'), sagemaker_session=session)\n",
    "from sagemaker.predictor import csv_serializer\n",
    "s3_input_train = sagemaker.TrainingInput(s3_data=train_location, content_type='csv')\n",
    "s3_input_validation = sagemaker.TrainingInput(s3_data=val_location, content_type='csv')"
   ]
  },
  {
   "cell_type": "markdown",
   "metadata": {},
   "source": [
    "we will call the fit method on our estimator object and pass on the location of training and validation data in S3. We also need to make sure that Sagemaker knows that our data is in CSV format."
   ]
  },
  {
   "cell_type": "code",
   "execution_count": 46,
   "metadata": {},
   "outputs": [
    {
     "name": "stdout",
     "output_type": "stream",
     "text": [
      "2022-03-20 15:30:46 Starting - Starting the training job...\n",
      "2022-03-20 15:31:12 Starting - Preparing the instances for trainingProfilerReport-1647790246: InProgress\n",
      ".........\n",
      "2022-03-20 15:32:32 Downloading - Downloading input data...\n",
      "2022-03-20 15:33:10 Training - Downloading the training image......\n",
      "2022-03-20 15:34:10 Training - Training image download completed. Training in progress..\u001b[34mINFO:sagemaker-containers:Imported framework sagemaker_xgboost_container.training\u001b[0m\n",
      "\u001b[34mINFO:sagemaker-containers:Failed to parse hyperparameter objective value binary:logistic to Json.\u001b[0m\n",
      "\u001b[34mReturning the value itself\u001b[0m\n",
      "\u001b[34mINFO:sagemaker-containers:No GPUs detected (normal if no gpus installed)\u001b[0m\n",
      "\u001b[34mINFO:sagemaker_xgboost_container.training:Running XGBoost Sagemaker in algorithm mode\u001b[0m\n",
      "\u001b[34mINFO:root:Determined delimiter of CSV input is ','\u001b[0m\n",
      "\u001b[34mINFO:root:Determined delimiter of CSV input is ','\u001b[0m\n",
      "\u001b[34mINFO:root:Determined delimiter of CSV input is ','\u001b[0m\n",
      "\u001b[34m[15:34:14] 89696x4 matrix with 358784 entries loaded from /opt/ml/input/data/train?format=csv&label_column=0&delimiter=,\u001b[0m\n",
      "\u001b[34mINFO:root:Determined delimiter of CSV input is ','\u001b[0m\n",
      "\u001b[34m[15:34:14] 38442x4 matrix with 153768 entries loaded from /opt/ml/input/data/validation?format=csv&label_column=0&delimiter=,\u001b[0m\n",
      "\u001b[34mINFO:root:Single node training.\u001b[0m\n",
      "\u001b[34mINFO:root:Train matrix has 89696 rows\u001b[0m\n",
      "\u001b[34mINFO:root:Validation matrix has 38442 rows\u001b[0m\n",
      "\u001b[34m[15:34:14] WARNING: /workspace/src/learner.cc:328: \u001b[0m\n",
      "\u001b[34mParameters: { num_round, silent } might not be used.\n",
      "  This may not be accurate due to some parameters are only used in language bindings but\n",
      "  passed down to XGBoost core.  Or some parameters are not used but slip through this\n",
      "  verification. Please open an issue if you find above cases.\u001b[0m\n",
      "\u001b[34m[0]#011train-error:0.01482#011validation-error:0.01379\u001b[0m\n",
      "\u001b[34m[1]#011train-error:0.01158#011validation-error:0.01178\u001b[0m\n",
      "\u001b[34m[2]#011train-error:0.01482#011validation-error:0.01379\u001b[0m\n",
      "\u001b[34m[3]#011train-error:0.01157#011validation-error:0.01178\u001b[0m\n",
      "\u001b[34m[4]#011train-error:0.01482#011validation-error:0.01379\u001b[0m\n",
      "\u001b[34m[5]#011train-error:0.01157#011validation-error:0.01178\u001b[0m\n",
      "\u001b[34m[6]#011train-error:0.01481#011validation-error:0.01379\u001b[0m\n",
      "\u001b[34m[7]#011train-error:0.00964#011validation-error:0.00944\u001b[0m\n",
      "\u001b[34m[8]#011train-error:0.00963#011validation-error:0.00944\u001b[0m\n",
      "\u001b[34m[9]#011train-error:0.00963#011validation-error:0.00944\u001b[0m\n",
      "\u001b[34m[10]#011train-error:0.00783#011validation-error:0.00775\u001b[0m\n",
      "\u001b[34m[11]#011train-error:0.00783#011validation-error:0.00775\u001b[0m\n",
      "\u001b[34m[12]#011train-error:0.00751#011validation-error:0.00734\u001b[0m\n",
      "\u001b[34m[13]#011train-error:0.00751#011validation-error:0.00734\u001b[0m\n",
      "\u001b[34m[14]#011train-error:0.00751#011validation-error:0.00734\u001b[0m\n",
      "\u001b[34m[15]#011train-error:0.00751#011validation-error:0.00734\u001b[0m\n",
      "\u001b[34m[16]#011train-error:0.00750#011validation-error:0.00723\u001b[0m\n",
      "\u001b[34m[17]#011train-error:0.00726#011validation-error:0.00689\u001b[0m\n",
      "\u001b[34m[18]#011train-error:0.00726#011validation-error:0.00687\u001b[0m\n",
      "\u001b[34m[19]#011train-error:0.00726#011validation-error:0.00687\u001b[0m\n",
      "\u001b[34m[20]#011train-error:0.00726#011validation-error:0.00687\u001b[0m\n",
      "\u001b[34m[21]#011train-error:0.00720#011validation-error:0.00674\u001b[0m\n",
      "\u001b[34m[22]#011train-error:0.00718#011validation-error:0.00674\u001b[0m\n",
      "\u001b[34m[23]#011train-error:0.00718#011validation-error:0.00674\u001b[0m\n",
      "\u001b[34m[24]#011train-error:0.00718#011validation-error:0.00674\u001b[0m\n",
      "\u001b[34m[25]#011train-error:0.00718#011validation-error:0.00674\u001b[0m\n",
      "\u001b[34m[26]#011train-error:0.00724#011validation-error:0.00687\u001b[0m\n",
      "\u001b[34m[27]#011train-error:0.00718#011validation-error:0.00674\u001b[0m\n",
      "\u001b[34m[28]#011train-error:0.00724#011validation-error:0.00687\u001b[0m\n",
      "\u001b[34m[29]#011train-error:0.00724#011validation-error:0.00687\u001b[0m\n",
      "\u001b[34m[30]#011train-error:0.00724#011validation-error:0.00687\u001b[0m\n",
      "\u001b[34m[31]#011train-error:0.00724#011validation-error:0.00687\u001b[0m\n",
      "\u001b[34m[32]#011train-error:0.00724#011validation-error:0.00687\u001b[0m\n",
      "\u001b[34m[33]#011train-error:0.00724#011validation-error:0.00687\u001b[0m\n",
      "\u001b[34m[34]#011train-error:0.00715#011validation-error:0.00671\u001b[0m\n",
      "\u001b[34m[35]#011train-error:0.00715#011validation-error:0.00671\u001b[0m\n",
      "\u001b[34m[36]#011train-error:0.00715#011validation-error:0.00671\u001b[0m\n",
      "\u001b[34m[37]#011train-error:0.00715#011validation-error:0.00671\u001b[0m\n",
      "\u001b[34m[38]#011train-error:0.00717#011validation-error:0.00679\u001b[0m\n",
      "\u001b[34m[39]#011train-error:0.00715#011validation-error:0.00671\u001b[0m\n",
      "\u001b[34m[40]#011train-error:0.00715#011validation-error:0.00671\u001b[0m\n",
      "\u001b[34m[41]#011train-error:0.00715#011validation-error:0.00671\u001b[0m\n",
      "\u001b[34m[42]#011train-error:0.00715#011validation-error:0.00674\u001b[0m\n",
      "\u001b[34m[43]#011train-error:0.00715#011validation-error:0.00674\u001b[0m\n",
      "\u001b[34m[44]#011train-error:0.00715#011validation-error:0.00674\u001b[0m\n",
      "\u001b[34m[45]#011train-error:0.00715#011validation-error:0.00674\u001b[0m\n",
      "\u001b[34m[46]#011train-error:0.00715#011validation-error:0.00674\u001b[0m\n",
      "\u001b[34m[47]#011train-error:0.00715#011validation-error:0.00674\u001b[0m\n",
      "\u001b[34m[48]#011train-error:0.00715#011validation-error:0.00674\u001b[0m\n",
      "\u001b[34m[49]#011train-error:0.00715#011validation-error:0.00674\u001b[0m\n",
      "\u001b[34m[50]#011train-error:0.00715#011validation-error:0.00674\u001b[0m\n",
      "\u001b[34m[51]#011train-error:0.00715#011validation-error:0.00674\u001b[0m\n",
      "\u001b[34m[52]#011train-error:0.00715#011validation-error:0.00674\u001b[0m\n",
      "\u001b[34m[53]#011train-error:0.00715#011validation-error:0.00674\u001b[0m\n",
      "\u001b[34m[54]#011train-error:0.00715#011validation-error:0.00674\u001b[0m\n",
      "\u001b[34m[55]#011train-error:0.00715#011validation-error:0.00674\u001b[0m\n",
      "\u001b[34m[56]#011train-error:0.00715#011validation-error:0.00674\u001b[0m\n",
      "\u001b[34m[57]#011train-error:0.00715#011validation-error:0.00674\u001b[0m\n",
      "\u001b[34m[58]#011train-error:0.00715#011validation-error:0.00674\u001b[0m\n",
      "\u001b[34m[59]#011train-error:0.00715#011validation-error:0.00674\u001b[0m\n",
      "\u001b[34m[60]#011train-error:0.00715#011validation-error:0.00674\u001b[0m\n",
      "\u001b[34m[61]#011train-error:0.00715#011validation-error:0.00674\u001b[0m\n",
      "\u001b[34m[62]#011train-error:0.00715#011validation-error:0.00674\u001b[0m\n",
      "\u001b[34m[63]#011train-error:0.00715#011validation-error:0.00674\u001b[0m\n",
      "\u001b[34m[64]#011train-error:0.00715#011validation-error:0.00674\u001b[0m\n",
      "\u001b[34m[65]#011train-error:0.00715#011validation-error:0.00674\u001b[0m\n",
      "\u001b[34m[66]#011train-error:0.00715#011validation-error:0.00674\u001b[0m\n",
      "\u001b[34m[67]#011train-error:0.00715#011validation-error:0.00674\u001b[0m\n",
      "\u001b[34m[68]#011train-error:0.00715#011validation-error:0.00674\u001b[0m\n",
      "\u001b[34m[69]#011train-error:0.00715#011validation-error:0.00674\u001b[0m\n",
      "\u001b[34m[70]#011train-error:0.00715#011validation-error:0.00674\u001b[0m\n",
      "\u001b[34m[71]#011train-error:0.00715#011validation-error:0.00674\u001b[0m\n",
      "\u001b[34m[72]#011train-error:0.00715#011validation-error:0.00674\u001b[0m\n",
      "\u001b[34m[73]#011train-error:0.00715#011validation-error:0.00674\u001b[0m\n",
      "\u001b[34m[74]#011train-error:0.00715#011validation-error:0.00674\u001b[0m\n",
      "\u001b[34m[75]#011train-error:0.00715#011validation-error:0.00674\u001b[0m\n",
      "\u001b[34m[76]#011train-error:0.00715#011validation-error:0.00674\u001b[0m\n",
      "\u001b[34m[77]#011train-error:0.00715#011validation-error:0.00674\u001b[0m\n",
      "\u001b[34m[78]#011train-error:0.00715#011validation-error:0.00674\u001b[0m\n",
      "\u001b[34m[79]#011train-error:0.00715#011validation-error:0.00674\u001b[0m\n",
      "\u001b[34m[80]#011train-error:0.00715#011validation-error:0.00674\u001b[0m\n",
      "\u001b[34m[81]#011train-error:0.00715#011validation-error:0.00674\u001b[0m\n",
      "\u001b[34m[82]#011train-error:0.00715#011validation-error:0.00674\u001b[0m\n",
      "\u001b[34m[83]#011train-error:0.00715#011validation-error:0.00674\u001b[0m\n",
      "\u001b[34m[84]#011train-error:0.00715#011validation-error:0.00674\u001b[0m\n",
      "\u001b[34m[85]#011train-error:0.00715#011validation-error:0.00674\u001b[0m\n",
      "\u001b[34m[86]#011train-error:0.00715#011validation-error:0.00674\u001b[0m\n",
      "\u001b[34m[87]#011train-error:0.00715#011validation-error:0.00674\u001b[0m\n",
      "\u001b[34m[88]#011train-error:0.00715#011validation-error:0.00674\u001b[0m\n",
      "\u001b[34m[89]#011train-error:0.00715#011validation-error:0.00674\u001b[0m\n",
      "\u001b[34m[90]#011train-error:0.00715#011validation-error:0.00674\u001b[0m\n",
      "\u001b[34m[91]#011train-error:0.00715#011validation-error:0.00674\u001b[0m\n",
      "\u001b[34m[92]#011train-error:0.00715#011validation-error:0.00674\u001b[0m\n",
      "\u001b[34m[93]#011train-error:0.00715#011validation-error:0.00674\u001b[0m\n",
      "\u001b[34m[94]#011train-error:0.00715#011validation-error:0.00674\u001b[0m\n",
      "\u001b[34m[95]#011train-error:0.00715#011validation-error:0.00674\u001b[0m\n",
      "\u001b[34m[96]#011train-error:0.00715#011validation-error:0.00674\u001b[0m\n",
      "\u001b[34m[97]#011train-error:0.00715#011validation-error:0.00674\u001b[0m\n",
      "\u001b[34m[98]#011train-error:0.00715#011validation-error:0.00674\u001b[0m\n",
      "\u001b[34m[99]#011train-error:0.00715#011validation-error:0.00674\u001b[0m\n",
      "\n",
      "2022-03-20 15:34:40 Uploading - Uploading generated training model\n",
      "2022-03-20 15:34:40 Completed - Training job completed\n",
      "Training seconds: 128\n",
      "Billable seconds: 128\n"
     ]
    }
   ],
   "source": [
    "xgb.set_hyperparameters(\n",
    "            max_depth=5,\n",
    "            eta=0.2,\n",
    "            gamma=4,\n",
    "            min_child_weight=6,\n",
    "            subsample=0.8,\n",
    "            silent=0,\n",
    "            objective=\"binary:logistic\",\n",
    "            num_round=100,\n",
    "        )\n",
    "\n",
    "xgb.fit({'train': s3_input_train, 'validation':s3_input_validation})"
   ]
  },
  {
   "cell_type": "markdown",
   "metadata": {},
   "source": [
    "##### **Testing The Model**"
   ]
  },
  {
   "cell_type": "code",
   "execution_count": 47,
   "metadata": {},
   "outputs": [
    {
     "name": "stdout",
     "output_type": "stream",
     "text": [
      ".................................................................!\n"
     ]
    }
   ],
   "source": [
    "xgb_transformer = xgb.transformer(instance_count = 1, instance_type = 'ml.m4.xlarge')\n",
    "xgb_transformer.transform(test_location, content_type='text/csv', split_type='Line', wait=True, logs=False)"
   ]
  },
  {
   "cell_type": "code",
   "execution_count": 50,
   "metadata": {},
   "outputs": [
    {
     "name": "stdout",
     "output_type": "stream",
     "text": [
      "download: s3://sagemaker-ap-southeast-1-805451413154/sagemaker-xgboost-2022-03-20-15-34-59-006/test.csv.out to output/test.csv.out\n"
     ]
    }
   ],
   "source": [
    "!aws s3 cp --recursive $xgb_transformer.output_path $output_dir"
   ]
  },
  {
   "cell_type": "markdown",
   "metadata": {},
   "source": [
    "##### **Deploying the Model**"
   ]
  },
  {
   "cell_type": "code",
   "execution_count": 51,
   "metadata": {},
   "outputs": [
    {
     "name": "stdout",
     "output_type": "stream",
     "text": [
      "------!"
     ]
    }
   ],
   "source": [
    "xgb_predictor = xgb.deploy(initial_instance_count = 1, instance_type = 'ml.m4.xlarge')"
   ]
  },
  {
   "cell_type": "markdown",
   "metadata": {},
   "source": [
    "The predictions stored in Y_pred are currently stored as a comma-delimited string and so we would like to break it up as a NumPy array. Now on evaluating the output, the metric score should be the same as the one we obtained during the Batch Transform job."
   ]
  },
  {
   "cell_type": "code",
   "execution_count": 52,
   "metadata": {},
   "outputs": [
    {
     "name": "stdout",
     "output_type": "stream",
     "text": [
      "mse 0.08848066407120254\n"
     ]
    }
   ],
   "source": [
    "from sklearn.metrics import mean_squared_error as mse\n",
    "Y_pred = pd.read_csv(os.path.join(output_dir, 'test.csv.out'), header=None)\n",
    "# Y_pred = pd.read_csv('./data/test.csv.out', header=None)\n",
    "error = np.sqrt(mse(Y_pred,y_test))\n",
    "print('mse {}'.format(error))"
   ]
  },
  {
   "cell_type": "markdown",
   "metadata": {},
   "source": [
    "Accessing the endpoint attribute of our predictor object provides us with our **model’s endpoint**, that we can further use to interact with our model"
   ]
  },
  {
   "cell_type": "code",
   "execution_count": 53,
   "metadata": {},
   "outputs": [
    {
     "name": "stderr",
     "output_type": "stream",
     "text": [
      "The endpoint attribute has been renamed in sagemaker>=2.\n",
      "See: https://sagemaker.readthedocs.io/en/stable/v2.html for details.\n"
     ]
    },
    {
     "data": {
      "text/plain": [
       "'sagemaker-xgboost-2022-03-20-15-43-48-942'"
      ]
     },
     "execution_count": 53,
     "metadata": {},
     "output_type": "execute_result"
    }
   ],
   "source": [
    "str(xgb_predictor.endpoint)"
   ]
  },
  {
   "cell_type": "markdown",
   "metadata": {},
   "source": [
    "##### **validating the data using deployed model's endpoint**"
   ]
  },
  {
   "cell_type": "code",
   "execution_count": 54,
   "metadata": {},
   "outputs": [],
   "source": [
    "!head -10 ./data/validation.csv > ./data/test_predict.csv"
   ]
  },
  {
   "cell_type": "code",
   "execution_count": 60,
   "metadata": {},
   "outputs": [
    {
     "name": "stderr",
     "output_type": "stream",
     "text": [
      "The endpoint attribute has been renamed in sagemaker>=2.\n",
      "See: https://sagemaker.readthedocs.io/en/stable/v2.html for details.\n",
      "content_type is a no-op in sagemaker>=2.\n",
      "See: https://sagemaker.readthedocs.io/en/stable/v2.html for details.\n",
      "accept is a no-op in sagemaker>=2.\n",
      "See: https://sagemaker.readthedocs.io/en/stable/v2.html for details.\n",
      "The csv_serializer has been renamed in sagemaker>=2.\n",
      "See: https://sagemaker.readthedocs.io/en/stable/v2.html for details.\n",
      "The csv_serializer has been renamed in sagemaker>=2.\n",
      "See: https://sagemaker.readthedocs.io/en/stable/v2.html for details.\n",
      "The csv_serializer has been renamed in sagemaker>=2.\n",
      "See: https://sagemaker.readthedocs.io/en/stable/v2.html for details.\n",
      "The csv_serializer has been renamed in sagemaker>=2.\n",
      "See: https://sagemaker.readthedocs.io/en/stable/v2.html for details.\n",
      "The csv_serializer has been renamed in sagemaker>=2.\n",
      "See: https://sagemaker.readthedocs.io/en/stable/v2.html for details.\n",
      "The csv_serializer has been renamed in sagemaker>=2.\n",
      "See: https://sagemaker.readthedocs.io/en/stable/v2.html for details.\n",
      "The csv_serializer has been renamed in sagemaker>=2.\n",
      "See: https://sagemaker.readthedocs.io/en/stable/v2.html for details.\n",
      "The csv_serializer has been renamed in sagemaker>=2.\n",
      "See: https://sagemaker.readthedocs.io/en/stable/v2.html for details.\n",
      "The csv_serializer has been renamed in sagemaker>=2.\n",
      "See: https://sagemaker.readthedocs.io/en/stable/v2.html for details.\n",
      "The csv_serializer has been renamed in sagemaker>=2.\n",
      "See: https://sagemaker.readthedocs.io/en/stable/v2.html for details.\n"
     ]
    },
    {
     "name": "stdout",
     "output_type": "stream",
     "text": [
      "Request_payload: 0,0,0,0 , product_upgrade_possibility: {'result': 'No', 'possibility': 'Very high', 'message': 'Input user is not a potential candidate for Premium upgrade'} \n",
      "Request_payload: 934,4,5,523 , product_upgrade_possibility: {'result': 'Yes', 'possibility': 'Very high', 'message': 'Input user is a potential candidate for Premium upgrade'} \n",
      "Request_payload: 2389,3,5,86 , product_upgrade_possibility: {'result': 'Yes', 'possibility': 'Very high', 'message': 'Input user is a potential candidate for Premium upgrade'} \n",
      "Request_payload: 0,0,0,0 , product_upgrade_possibility: {'result': 'No', 'possibility': 'Very high', 'message': 'Input user is not a potential candidate for Premium upgrade'} \n",
      "Request_payload: 4593,4,1,137 , product_upgrade_possibility: {'result': 'Yes', 'possibility': 'Very high', 'message': 'Input user is a potential candidate for Premium upgrade'} \n",
      "Request_payload: 0,0,0,0 , product_upgrade_possibility: {'result': 'No', 'possibility': 'Very high', 'message': 'Input user is not a potential candidate for Premium upgrade'} \n",
      "Request_payload: 4271,2,5,819 , product_upgrade_possibility: {'result': 'Yes', 'possibility': 'Very high', 'message': 'Input user is a potential candidate for Premium upgrade'} \n",
      "Request_payload: 0,0,0,0 , product_upgrade_possibility: {'result': 'No', 'possibility': 'Very high', 'message': 'Input user is not a potential candidate for Premium upgrade'} \n",
      "Request_payload: 1738,1,1,201 , product_upgrade_possibility: {'result': 'No', 'possibility': 'Very high', 'message': 'Input user is not a potential candidate for Premium upgrade'} \n",
      "Request_payload: 0,0,0,0 , product_upgrade_possibility: {'result': 'No', 'possibility': 'Very high', 'message': 'Input user is not a potential candidate for Premium upgrade'} \n"
     ]
    }
   ],
   "source": [
    "from sagemaker.predictor import json_serializer, json_deserializer, Predictor, csv_serializer, Predictor, RealTimePredictor\n",
    "\n",
    "\n",
    "# predictor = RealTimePredictor(endpoint_name=str(xgb_predictor.endpoint), content_type = 'text/csv')\n",
    "predictor = Predictor(endpoint_name=str(xgb_predictor.endpoint), sagemaker_session=sagemaker.Session(), serializer=csv_serializer,\n",
    "                                content_type='text/csv', accept='application/json')\n",
    "\n",
    "with open('./data/test_predict.csv', 'r') as f:\n",
    "    for row in f:\n",
    "        payload = row.rstrip('\\n')\n",
    "        inference_response = predictor.predict(data=payload[2:])\n",
    "        response = float(str(inference_response.decode(\"utf-8\") )) * 100\n",
    "        if  response > 80: \n",
    "            result = \"Yes\"\n",
    "            possibility = \"High\"\n",
    "            message = \"Input user is a potential candidate for Premium upgrade\"\n",
    "        else:\n",
    "            result = \"No\"\n",
    "            possibility = \"Very Low\"\n",
    "            message = \"Input user is not a potential candidate for Premium upgrade\"\n",
    "        response = {\n",
    "            \"result\": result,\n",
    "            \"possibility\": possibility,\n",
    "            \"message\": message\n",
    "        } \n",
    "        print('Request_payload: {} , product_upgrade_possibility: {} '.format(payload[2:], response))"
   ]
  }
 ],
 "metadata": {
  "colab": {
   "collapsed_sections": [],
   "name": "Final_sem.ipynb",
   "provenance": []
  },
  "kernelspec": {
   "display_name": "conda_python3",
   "language": "python",
   "name": "conda_python3"
  },
  "language_info": {
   "codemirror_mode": {
    "name": "ipython",
    "version": 3
   },
   "file_extension": ".py",
   "mimetype": "text/x-python",
   "name": "python",
   "nbconvert_exporter": "python",
   "pygments_lexer": "ipython3",
   "version": "3.6.13"
  }
 },
 "nbformat": 4,
 "nbformat_minor": 4
}
